{
 "cells": [
  {
   "cell_type": "markdown",
   "metadata": {},
   "source": [
    "# NAWI Alliance Spring Meeting 2023: \n",
    "# Interactive Code Demonstration Using WaterTAP\n",
    "\n",
    "### Today's demonstration will show \n",
    "- Part 1: how to build, initialize, simulate, and optimize a nanofiltration (NF) unit model based on the Donnan Steric Pore Model with Dielectric Exclusion (DSPM-DE).\n",
    "- Part 2: repeat the same process for an NF flowsheet with bypass.\n",
    "- Part 3: demonstrate the same NF flowsheet in WaterTAP's graphical user interface, which is in early stages of development."
   ]
  },
  {
   "cell_type": "markdown",
   "metadata": {},
   "source": [
    "# Part 1: Build, setup, simulate, and optimize the NF DSPM-DE unit model"
   ]
  },
  {
   "cell_type": "markdown",
   "metadata": {},
   "source": [
    "<img src=\"nf_dspmde_transport_mechanisms.png\" width=\"500\" height=\"340\">\n",
    "Image source: <a href=\"https://doi.org/10.1016/j.desal.2017.07.020\">Roy et al., 2017</a>\n"
   ]
  },
  {
   "cell_type": "markdown",
   "metadata": {},
   "source": [
    "<img src=\"nf_ui.png\" width=\"500\" height=\"340\">"
   ]
  },
  {
   "cell_type": "markdown",
   "metadata": {},
   "source": [
    "## Step 1: Import libraries from Pyomo, IDAES, and WaterTAP."
   ]
  },
  {
   "cell_type": "code",
   "execution_count": 166,
   "metadata": {},
   "outputs": [],
   "source": [
    "# Imports from Pyomo, including \"value\" for getting the value of Pyomo objects\n",
    "from pyomo.environ import ConcreteModel, Constraint, Objective, Expression, value, units as pyunits, assert_optimal_termination\n",
    "\n",
    "# Imports from IDAES:\n",
    "# Import flowsheet block from IDAES core\n",
    "from idaes.core import FlowsheetBlock\n",
    "\n",
    "# Import function to get default solver\n",
    "from idaes.core.solvers import get_solver\n",
    "\n",
    "# Import function to check degrees of freedom\n",
    "from idaes.core.util.model_statistics import degrees_of_freedom\n",
    "\n",
    "# Import utility function for calculating scaling factors\n",
    "from idaes.core.util.scaling import calculate_scaling_factors, set_scaling_factor\n",
    "\n",
    "# Import IDAES units\n",
    "from idaes.models.unit_models import Feed, Product\n",
    "\n",
    "import idaes.logger as idaeslog\n",
    "_log = idaeslog.getLogger(__name__)\n"
   ]
  },
  {
   "cell_type": "markdown",
   "metadata": {},
   "source": [
    "### WaterTAP Imports: \n",
    "* multicomponent property model\n",
    "* pump\n",
    "* NF DSPM-DE unit model\n",
    "* configuration options can be used to change underlying model assumptions"
   ]
  },
  {
   "cell_type": "code",
   "execution_count": 167,
   "metadata": {},
   "outputs": [],
   "source": [
    "# Imports from WaterTAP\n",
    "# Import MultiComponent Aqueous Solution property model\n",
    "from watertap.property_models.multicomp_aq_sol_prop_pack import (MCASParameterBlock, \n",
    "                                                                 ActivityCoefficientModel,\n",
    "                                                                 DensityCalculation,)\n",
    "# Import pump model\n",
    "from watertap.unit_models.pressure_changer import Pump\n",
    "\n",
    "# Import NF DSPM-DE model\n",
    "from watertap.unit_models.nanofiltration_DSPMDE_0D import (\n",
    "    NanofiltrationDSPMDE0D,\n",
    "    MassTransferCoefficient,\n",
    "    ConcentrationPolarizationType,\n",
    ")"
   ]
  },
  {
   "cell_type": "markdown",
   "metadata": {},
   "source": [
    "## Step 2: Start building the NF DSPM-DE model."
   ]
  },
  {
   "cell_type": "code",
   "execution_count": 168,
   "metadata": {},
   "outputs": [],
   "source": [
    "# Create a Pyomo concrete model, flowsheet, and set up solute properties required by the DSPM-DE model.\n",
    "m = ConcreteModel()\n",
    "m.fs = FlowsheetBlock(dynamic=False)\n",
    "\n",
    "property_kwds = {\n",
    "\"solute_list\": [\n",
    "    \"Ca_2+\",\n",
    "    \"SO4_2-\",\n",
    "    \"HCO3_-\",\n",
    "    \"Na_+\",\n",
    "    \"Cl_-\",\n",
    "],\n",
    "\"diffusivity_data\": {\n",
    "    (\"Liq\", \"Ca_2+\"): 9.2e-10,\n",
    "    (\"Liq\", \"SO4_2-\"): 1.06e-9,\n",
    "    (\"Liq\", \"HCO3_-\"): 1.19e-9,\n",
    "    (\"Liq\", \"Na_+\"): 1.33e-9,\n",
    "    (\"Liq\", \"Cl_-\"): 2.03e-9,\n",
    "},\n",
    "\"mw_data\": {\n",
    "    \"H2O\": 18e-3,\n",
    "    \"Ca_2+\": 40e-3,\n",
    "    \"HCO3_-\": 61.0168e-3,\n",
    "    \"SO4_2-\": 96e-3,\n",
    "    \"Na_+\": 23e-3,\n",
    "    \"Cl_-\": 35e-3,\n",
    "},\n",
    "\"stokes_radius_data\": {\n",
    "    \"Ca_2+\": 0.309e-9,\n",
    "    \"HCO3_-\": 2.06e-10,\n",
    "    \"SO4_2-\": 0.230e-9,\n",
    "    \"Cl_-\": 0.121e-9,\n",
    "    \"Na_+\": 0.184e-9,\n",
    "},\n",
    "\"charge\": {\n",
    "    \"Ca_2+\": 2,\n",
    "    \"HCO3_-\": -1,\n",
    "    \"SO4_2-\": -2,\n",
    "    \"Na_+\": 1,\n",
    "    \"Cl_-\": -1,\n",
    "},\n",
    "\"activity_coefficient_model\": ActivityCoefficientModel.ideal,\n",
    "\"density_calculation\": DensityCalculation.constant,\n",
    "}\n",
    "\n",
    "m.fs.properties = MCASParameterBlock(**property_kwds)"
   ]
  },
  {
   "cell_type": "markdown",
   "metadata": {},
   "source": [
    "### Add a feed, product, and disposal blocks\n",
    "* Feed for inlet composition\n",
    "* Product for NF permeate\n",
    "* Disposal for NF concentrate"
   ]
  },
  {
   "cell_type": "code",
   "execution_count": 169,
   "metadata": {},
   "outputs": [],
   "source": [
    "m.fs.feed = Feed(property_package=m.fs.properties)\n",
    "m.fs.product = Product(property_package=m.fs.properties)\n",
    "m.fs.disposal = Product(property_package=m.fs.properties)"
   ]
  },
  {
   "cell_type": "markdown",
   "metadata": {},
   "source": [
    "### Add a pump and an NF DSPM-DE unit to the flowsheet."
   ]
  },
  {
   "cell_type": "code",
   "execution_count": 170,
   "metadata": {},
   "outputs": [],
   "source": [
    "m.fs.pump = Pump(property_package=m.fs.properties)\n",
    "m.fs.unit = NanofiltrationDSPMDE0D(property_package=m.fs.properties)"
   ]
  },
  {
   "cell_type": "markdown",
   "metadata": {},
   "source": [
    "## Step 3: Specify values for system variables."
   ]
  },
  {
   "cell_type": "markdown",
   "metadata": {},
   "source": [
    "### Fix inlet state variables \n",
    "* mole flow rates of each component\n",
    "* temperature\n",
    "* pressure"
   ]
  },
  {
   "cell_type": "code",
   "execution_count": 171,
   "metadata": {},
   "outputs": [
    {
     "data": {
      "text/plain": [
       "0"
      ]
     },
     "execution_count": 171,
     "metadata": {},
     "output_type": "execute_result"
    }
   ],
   "source": [
    "degrees_of_freedom(m.fs.feed)"
   ]
  },
  {
   "cell_type": "code",
   "execution_count": 172,
   "metadata": {},
   "outputs": [
    {
     "name": "stdout",
     "output_type": "stream",
     "text": [
      "2023-05-24 04:34:57 [WARNING] idaes.watertap.property_models.multicomp_aq_sol_prop_pack: While using the calculate_state method on fs.feed.properties[0.0], variable mass_frac_phase_comp was provided as an argument in var_args, but it does not have a scaling factor. This suggests that the calculate_scaling_factor method has not been used or the variable was created on demand after the scaling factors were calculated. It is recommended to touch all relevant variables (i.e. call them or set an initial value) before using the calculate_scaling_factor method.\n",
      "2023-05-24 04:34:57 [WARNING] idaes.watertap.property_models.multicomp_aq_sol_prop_pack: While using the calculate_state method on fs.feed.properties[0.0], variable mass_frac_phase_comp was provided as an argument in var_args, but it does not have a scaling factor. This suggests that the calculate_scaling_factor method has not been used or the variable was created on demand after the scaling factors were calculated. It is recommended to touch all relevant variables (i.e. call them or set an initial value) before using the calculate_scaling_factor method.\n",
      "2023-05-24 04:34:57 [WARNING] idaes.watertap.property_models.multicomp_aq_sol_prop_pack: While using the calculate_state method on fs.feed.properties[0.0], variable mass_frac_phase_comp was provided as an argument in var_args, but it does not have a scaling factor. This suggests that the calculate_scaling_factor method has not been used or the variable was created on demand after the scaling factors were calculated. It is recommended to touch all relevant variables (i.e. call them or set an initial value) before using the calculate_scaling_factor method.\n",
      "2023-05-24 04:34:57 [WARNING] idaes.watertap.property_models.multicomp_aq_sol_prop_pack: While using the calculate_state method on fs.feed.properties[0.0], variable mass_frac_phase_comp was provided as an argument in var_args, but it does not have a scaling factor. This suggests that the calculate_scaling_factor method has not been used or the variable was created on demand after the scaling factors were calculated. It is recommended to touch all relevant variables (i.e. call them or set an initial value) before using the calculate_scaling_factor method.\n",
      "2023-05-24 04:34:57 [WARNING] idaes.watertap.property_models.multicomp_aq_sol_prop_pack: While using the calculate_state method on fs.feed.properties[0.0], variable mass_frac_phase_comp was provided as an argument in var_args, but it does not have a scaling factor. This suggests that the calculate_scaling_factor method has not been used or the variable was created on demand after the scaling factors were calculated. It is recommended to touch all relevant variables (i.e. call them or set an initial value) before using the calculate_scaling_factor method.\n",
      "2023-05-24 04:34:57 [WARNING] idaes.watertap.property_models.multicomp_aq_sol_prop_pack: While using the calculate_state method on fs.feed.properties[0.0], variable flow_vol_phase was provided as an argument in var_args, but it does not have a scaling factor. This suggests that the calculate_scaling_factor method has not been used or the variable was created on demand after the scaling factors were calculated. It is recommended to touch all relevant variables (i.e. call them or set an initial value) before using the calculate_scaling_factor method.\n"
     ]
    },
    {
     "data": {
      "text/plain": [
       "{'Problem': [{'Lower bound': -inf, 'Upper bound': inf, 'Number of objectives': 1, 'Number of constraints': 26, 'Number of variables': 26, 'Sense': 'unknown'}], 'Solver': [{'Status': 'ok', 'Message': 'Ipopt 3.13.2\\\\x3a Optimal Solution Found', 'Termination condition': 'optimal', 'Id': 0, 'Error rc': 0, 'Time': 0.08046579360961914}], 'Solution': [OrderedDict([('number of solutions', 0), ('number of solutions displayed', 0)])]}"
      ]
     },
     "execution_count": 172,
     "metadata": {},
     "output_type": "execute_result"
    }
   ],
   "source": [
    "m.fs.feed.properties[0].temperature.fix(298.15)\n",
    "m.fs.feed.properties[0].pressure.fix(4e5)\n",
    "\n",
    "feed_mass_frac = {\n",
    "    \"Ca_2+\": 4.0034374454637006e-04,\n",
    "    \"HCO3_-\": 0.00022696833343821863,\n",
    "    \"SO4_2-\": 0.00020497140244420624,\n",
    "    \"Cl_-\": 0.0004559124032433401,\n",
    "    \"Na_+\": 0.00043333830389924205,\n",
    "}\n",
    "H2O_mass_frac = 1 - sum(x for x in feed_mass_frac.values())\n",
    "m.fs.properties.set_default_scaling(\"flow_mol_phase_comp\", 1e4, index=(\"Liq\", \"Ca_2+\"))\n",
    "m.fs.properties.set_default_scaling(\"flow_mol_phase_comp\", 1e3, index=(\"Liq\", \"SO4_2-\"))\n",
    "m.fs.properties.set_default_scaling(\"flow_mol_phase_comp\", 1e3, index=(\"Liq\", \"HCO3_-\"))\n",
    "m.fs.properties.set_default_scaling(\"flow_mol_phase_comp\", 1e2, index=(\"Liq\", \"Cl_-\"))\n",
    "m.fs.properties.set_default_scaling(\"flow_mol_phase_comp\", 1e2, index=(\"Liq\", \"Na_+\"))\n",
    "m.fs.properties.set_default_scaling(\"flow_mol_phase_comp\", 1e0, index=(\"Liq\", \"H2O\"))\n",
    "\n",
    "m.fs.feed.properties[0].mass_frac_phase_comp\n",
    "m.fs.feed.properties[0].conc_mol_phase_comp\n",
    "m.fs.feed.properties[0].conc_mass_phase_comp\n",
    "m.fs.feed.properties[0].flow_vol_phase\n",
    "calculate_scaling_factors(m.fs.feed.properties[0])\n",
    "m.fs.feed.properties.calculate_state(\n",
    "    var_args={\n",
    "        (\"mass_frac_phase_comp\", (\"Liq\", \"Ca_2+\")): 4.0034374454637006e-04,\n",
    "        (\"mass_frac_phase_comp\", (\"Liq\", \"HCO3_-\")): 0.00022696833343821863,\n",
    "        (\"mass_frac_phase_comp\", (\"Liq\", \"SO4_2-\")): 0.00020497140244420624,\n",
    "        (\"mass_frac_phase_comp\", (\"Liq\", \"Cl_-\")): 0.0004559124032433401,\n",
    "        (\"mass_frac_phase_comp\", (\"Liq\", \"Na_+\")): 0.00043333830389924205,\n",
    "        (\"flow_vol_phase\", \"Liq\"): 1e-3,  \n",
    "\n",
    "    },  \n",
    "    hold_state=True)\n"
   ]
  },
  {
   "cell_type": "code",
   "execution_count": 176,
   "metadata": {},
   "outputs": [],
   "source": [
    "mass_flow_in = 1 * pyunits.kg / pyunits.s\n",
    "feed_mass_frac = {\n",
    "    \"Ca_2+\": 4.0034374454637006e-04,\n",
    "    \"HCO3_-\": 0.00022696833343821863,\n",
    "    \"SO4_2-\": 0.00020497140244420624,\n",
    "    \"Cl_-\": 0.0004559124032433401,\n",
    "    \"Na_+\": 0.00043333830389924205,\n",
    "}\n",
    "\n",
    "for ion, x in feed_mass_frac.items():\n",
    "    mol_comp_flow = (x*mass_flow_in\n",
    "                     / m.fs.unit.feed_side.properties_in[0].mw_comp[ion])\n",
    "    m.fs.unit.inlet.flow_mol_phase_comp[0, \"Liq\", ion].fix(mol_comp_flow)\n",
    "    \n",
    "H2O_mass_frac = 1 - sum(x for x in feed_mass_frac.values())\n",
    "H2O_mol_comp_flow = (H2O_mass_frac* mass_flow_in\n",
    "                     /m.fs.unit.feed_side.properties_in[0].mw_comp[\"H2O\"])\n",
    "m.fs.unit.inlet.flow_mol_phase_comp[0, \"Liq\", \"H2O\"].fix(H2O_mol_comp_flow)"
   ]
  },
  {
   "cell_type": "code",
   "execution_count": 177,
   "metadata": {},
   "outputs": [
    {
     "name": "stdout",
     "output_type": "stream",
     "text": [
      "H2O= 55.45991476735715\n",
      "Ca_2+= 0.010008593613659252\n",
      "SO4_2-= 0.002135118775460484\n",
      "HCO3_-= 0.003719767890781208\n",
      "Na_+= 0.018840795821706183\n",
      "Cl_-= 0.01302606866409544\n"
     ]
    }
   ],
   "source": [
    "for j in m.fs.properties.component_list:\n",
    "    print(f\"{j}= {value(m.fs.feed.properties[0].flow_mol_phase_comp['Liq', j])}\")"
   ]
  },
  {
   "cell_type": "code",
   "execution_count": 178,
   "metadata": {},
   "outputs": [
    {
     "name": "stdout",
     "output_type": "stream",
     "text": [
      "H2O= 55.45991476735715\n",
      "Ca_2+= 0.010008593613659252\n",
      "SO4_2-= 0.0021351187754604815\n",
      "HCO3_-= 0.003719767890781205\n",
      "Na_+= 0.018840795821706176\n",
      "Cl_-= 0.01302606866409543\n"
     ]
    }
   ],
   "source": [
    "for j in m.fs.properties.component_list:\n",
    "    print(f\"{j}= {value(m.fs.unit.inlet.flow_mol_phase_comp[0, 'Liq', j])}\")"
   ]
  },
  {
   "cell_type": "markdown",
   "metadata": {},
   "source": [
    "### Use assert_electroneutrality method from property model to ensure the ion concentrations provided obey electroneutrality condition"
   ]
  },
  {
   "cell_type": "code",
   "execution_count": 179,
   "metadata": {},
   "outputs": [
    {
     "name": "stdout",
     "output_type": "stream",
     "text": [
      "WARNING: Implicitly replacing the Component attribute charge_balance\n",
      "    (type=<class 'pyomo.core.base.constraint.ScalarConstraint'>) on block\n",
      "    fs.unit.feed_side.properties_in[0.0] with a new Component (type=<class\n",
      "    'pyomo.core.base.constraint.AbstractScalarConstraint'>). This is usually\n",
      "    indicative of a modelling error. To avoid this warning, use\n",
      "    block.del_component() and block.add_component().\n",
      "{Member of conc_mol_phase_comp} : Molar concentration\n",
      "    Size=6, Index=fs.unit.feed_side.properties_in[0.0].conc_mol_phase_comp_index, Units=mol/m**3\n",
      "    Key            : Lower : Value             : Upper : Fixed : Stale : Domain\n",
      "    ('Liq', 'H2O') :     0 : 55425.30350471729 :  None : False : False :  Reals\n",
      "{Member of conc_mol_phase_comp} : Molar concentration\n",
      "    Size=6, Index=fs.unit.feed_side.properties_in[0.0].conc_mol_phase_comp_index, Units=mol/m**3\n",
      "    Key              : Lower : Value              : Upper : Fixed : Stale : Domain\n",
      "    ('Liq', 'Ca_2+') :     0 : 10.002347479606016 :  None : False : False :  Reals\n",
      "{Member of conc_mol_phase_comp} : Molar concentration\n",
      "    Size=6, Index=fs.unit.feed_side.properties_in[0.0].conc_mol_phase_comp_index, Units=mol/m**3\n",
      "    Key               : Lower : Value              : Upper : Fixed : Stale : Domain\n",
      "    ('Liq', 'SO4_2-') :     0 : 2.1337862967321106 :  None : False : False :  Reals\n",
      "{Member of conc_mol_phase_comp} : Molar concentration\n",
      "    Size=6, Index=fs.unit.feed_side.properties_in[0.0].conc_mol_phase_comp_index, Units=mol/m**3\n",
      "    Key               : Lower : Value              : Upper : Fixed : Stale : Domain\n",
      "    ('Liq', 'HCO3_-') :     0 : 3.7174464688322675 :  None : False : False :  Reals\n",
      "{Member of conc_mol_phase_comp} : Molar concentration\n",
      "    Size=6, Index=fs.unit.feed_side.properties_in[0.0].conc_mol_phase_comp_index, Units=mol/m**3\n",
      "    Key             : Lower : Value             : Upper : Fixed : Stale : Domain\n",
      "    ('Liq', 'Na_+') :     0 : 18.82903771253373 :  None : False : False :  Reals\n",
      "{Member of conc_mol_phase_comp} : Molar concentration\n",
      "    Size=6, Index=fs.unit.feed_side.properties_in[0.0].conc_mol_phase_comp_index, Units=mol/m**3\n",
      "    Key             : Lower : Value             : Upper : Fixed : Stale : Domain\n",
      "    ('Liq', 'Cl_-') :     0 : 30.84871360944927 :  None : False : False :  Reals\n",
      "Cl_- adjusted: flow_mol_phase_comp['Liq',Cl_-] was adjusted from 0.01302606866409543 and fixed to 0.03086797760732251. Electroneutrality satisfied for fs.unit.feed_side.properties_in[0.0]. Balance Result = 0.0\n"
     ]
    }
   ],
   "source": [
    "m.fs.unit.feed_side.properties_in[0].assert_electroneutrality(\n",
    "    defined_state=True,\n",
    "    adjust_by_ion=\"Cl_-\",\n",
    ")"
   ]
  },
  {
   "cell_type": "markdown",
   "metadata": {},
   "source": [
    "### Fix the membrane variables that are usually fixed for the DSPM-DE model"
   ]
  },
  {
   "cell_type": "code",
   "execution_count": 182,
   "metadata": {},
   "outputs": [],
   "source": [
    "m.fs.unit.radius_pore.fix(0.5e-9)\n",
    "m.fs.unit.membrane_thickness_effective.fix(8.6e-07)\n",
    "m.fs.unit.membrane_charge_density.fix(-680)\n",
    "m.fs.unit.dielectric_constant_pore.fix(41.3)\n",
    "\n",
    "# Fix final permeate pressure to be ~atmospheric\n",
    "m.fs.unit.mixed_permeate[0].pressure.fix(101325)\n",
    "\n",
    "m.fs.unit.spacer_porosity.fix(0.85)\n",
    "m.fs.unit.channel_height.fix(1e-3)\n",
    "m.fs.unit.velocity[0, 0].fix(0.25)\n",
    "m.fs.unit.area.fix(50)\n",
    "\n",
    "# Fix additional variables for calculating mass transfer coefficient with spiral wound correlation\n",
    "m.fs.unit.spacer_mixing_efficiency.fix()\n",
    "m.fs.unit.spacer_mixing_length.fix()\n",
    "\n",
    "# Create on-demand property, \"total hardness\" for the NF permeate\n",
    "m.fs.product.properties[0].total_hardness;"
   ]
  },
  {
   "cell_type": "markdown",
   "metadata": {},
   "source": [
    "## Step 4: Scale all variables."
   ]
  },
  {
   "cell_type": "code",
   "execution_count": 183,
   "metadata": {},
   "outputs": [
    {
     "name": "stdout",
     "output_type": "stream",
     "text": [
      "2023-05-24 04:40:09 [WARNING] idaes.core.util.scaling: Missing scaling factor for fs.pump.control_volume.work\n",
      "2023-05-24 04:40:09 [WARNING] idaes.core.util.scaling: Missing scaling factor for fs.unit.area\n"
     ]
    }
   ],
   "source": [
    "# Calculate scaling factors for variables.\n",
    "# How did we set these scaling factors? mention that they're approx inverse of variable values\n",
    "m.fs.properties.set_default_scaling(\"flow_mol_phase_comp\", 1e4, index=(\"Liq\", \"Ca_2+\"))\n",
    "m.fs.properties.set_default_scaling(\"flow_mol_phase_comp\", 1e3, index=(\"Liq\", \"SO4_2-\"))\n",
    "m.fs.properties.set_default_scaling(\"flow_mol_phase_comp\", 1e3, index=(\"Liq\", \"HCO3_-\"))\n",
    "m.fs.properties.set_default_scaling(\"flow_mol_phase_comp\", 1e2, index=(\"Liq\", \"Cl_-\"))\n",
    "m.fs.properties.set_default_scaling(\"flow_mol_phase_comp\", 1e2, index=(\"Liq\", \"Na_+\"))\n",
    "m.fs.properties.set_default_scaling(\"flow_mol_phase_comp\", 1e0, index=(\"Liq\", \"H2O\"))\n",
    "calculate_scaling_factors(m);"
   ]
  },
  {
   "cell_type": "markdown",
   "metadata": {},
   "source": [
    "## Step 5: Initialize the model."
   ]
  },
  {
   "cell_type": "code",
   "execution_count": 184,
   "metadata": {},
   "outputs": [
    {
     "name": "stdout",
     "output_type": "stream",
     "text": [
      "2023-05-24 04:40:34 [INFO] idaes.init.fs.unit: Initialization Complete: optimal - Optimal Solution Found\n"
     ]
    }
   ],
   "source": [
    "m.fs.unit.initialize()"
   ]
  },
  {
   "cell_type": "code",
   "execution_count": 12,
   "metadata": {},
   "outputs": [
    {
     "name": "stdout",
     "output_type": "stream",
     "text": [
      "conc_mol_phase_comp : Molar concentration\n",
      "    Size=6, Index=fs.unit.feed_side.properties_in[0.0].conc_mol_phase_comp_index, Units=mol/m**3\n",
      "    Key               : Lower : Value              : Upper : Fixed : Stale : Domain\n",
      "     ('Liq', 'Ca_2+') :     0 : 10.002347479606255 :  None : False : False :  Reals\n",
      "      ('Liq', 'Cl_-') :     0 :  30.84871360830424 :  None : False : False :  Reals\n",
      "       ('Liq', 'H2O') :     0 :  55425.30350471725 :  None : False : False :  Reals\n",
      "    ('Liq', 'HCO3_-') :     0 : 3.7174464688257896 :  None : False : False :  Reals\n",
      "      ('Liq', 'Na_+') :     0 :   18.8290376955403 :  None : False : False :  Reals\n",
      "    ('Liq', 'SO4_2-') :     0 : 2.1337862967279646 :  None : False : False :  Reals\n",
      "conc_mol_phase_comp : Molar concentration\n",
      "    Size=6, Index=fs.unit.mixed_permeate[0.0].conc_mol_phase_comp_index, Units=mol/m**3\n",
      "    Key               : Lower : Value                 : Upper : Fixed : Stale : Domain\n",
      "     ('Liq', 'Ca_2+') :     0 :     1.266665760175004 :  None : False : False :  Reals\n",
      "      ('Liq', 'Cl_-') :     0 :     8.693136156277925 :  None : False : False :  Reals\n",
      "       ('Liq', 'H2O') :     0 :     55524.13374002961 :  None : False : False :  Reals\n",
      "    ('Liq', 'HCO3_-') :     0 :    0.8210234615732805 :  None : False : False :  Reals\n",
      "      ('Liq', 'Na_+') :     0 :     6.980983211115781 :  None : False : False :  Reals\n",
      "    ('Liq', 'SO4_2-') :     0 : 7.755621182242527e-05 :  None : False : False :  Reals\n"
     ]
    }
   ],
   "source": [
    "m.fs.unit.feed_side.properties_in[0].conc_mol_phase_comp.display()\n",
    "m.fs.unit.mixed_permeate[0].conc_mol_phase_comp.display()"
   ]
  },
  {
   "cell_type": "markdown",
   "metadata": {},
   "source": [
    "## Step 6: Setup a solver and run a simulation."
   ]
  },
  {
   "cell_type": "code",
   "execution_count": 13,
   "metadata": {},
   "outputs": [],
   "source": [
    "# Check that degrees of freedom = 0 before attempting simulation.\n",
    "# This means that the performance of the flowsheet is completely\n",
    "# determined by the system variables that were fixed above.\n",
    "assert degrees_of_freedom(m) == 0"
   ]
  },
  {
   "cell_type": "code",
   "execution_count": 14,
   "metadata": {},
   "outputs": [],
   "source": [
    "# Setup solver\n",
    "solver = get_solver()"
   ]
  },
  {
   "cell_type": "code",
   "execution_count": 15,
   "metadata": {},
   "outputs": [],
   "source": [
    "# Run simulation\n",
    "simulation_results = solver.solve(m)\n",
    "assert_optimal_termination(simulation_results)"
   ]
  },
  {
   "cell_type": "code",
   "execution_count": 185,
   "metadata": {},
   "outputs": [
    {
     "name": "stdout",
     "output_type": "stream",
     "text": [
      "\n",
      "====================================================================================\n",
      "Unit : fs.unit                                                             Time: 0.0\n",
      "------------------------------------------------------------------------------------\n",
      "    Unit Performance\n",
      "\n",
      "    Variables: \n",
      "\n",
      "    Key                                                           : Value       : Units                                        : Fixed : Bounds\n",
      "                             Electric Potential @ Permeate, Inlet : -2.1602e-10 : kilogram * meter ** 2 / ampere / second ** 3 : False : (None, None)\n",
      "                            Electric Potential @ Permeate, Outlet : -2.1690e-10 : kilogram * meter ** 2 / ampere / second ** 3 : False : (None, None)\n",
      "                        Electric Potential @ Pore Entrance, Inlet :    -0.12742 : kilogram * meter ** 2 / ampere / second ** 3 : False : (None, None)\n",
      "                       Electric Potential @ Pore Entrance, Outlet :    -0.12742 : kilogram * meter ** 2 / ampere / second ** 3 : False : (None, None)\n",
      "                            Electric Potential @ Pore Exit, Inlet :    -0.12742 : kilogram * meter ** 2 / ampere / second ** 3 : False : (None, None)\n",
      "                           Electric Potential @ Pore Exit, Outlet :    -0.12742 : kilogram * meter ** 2 / ampere / second ** 3 : False : (None, None)\n",
      "     Electric Potential Gradient @ Feed-Membrane Interface, Inlet : -3.0498e-09 :      kilogram * meter / ampere / second ** 3 : False : (None, None)\n",
      "    Electric Potential Gradient @ Feed-Membrane Interface, Outlet : -3.9312e-09 :      kilogram * meter / ampere / second ** 3 : False : (None, None)\n",
      "                                     Intrinsic Rejection of Ca_2+ :  -0.0027447 :                                dimensionless : False : (-1.001, 1.001)\n",
      "                                      Intrinsic Rejection of Cl_- :    0.016253 :                                dimensionless : False : (-1.001, 1.001)\n",
      "                                    Intrinsic Rejection of HCO3_- :    0.018229 :                                dimensionless : False : (-1.001, 1.001)\n",
      "                                      Intrinsic Rejection of Na_+ :    0.042831 :                                dimensionless : False : (-1.001, 1.001)\n",
      "                                    Intrinsic Rejection of SO4_2- :    0.034463 :                                dimensionless : False : (-1.001, 1.001)\n",
      "                                                    Membrane Area :      50.000 :                                   meter ** 2 :  True : (0, 1000.0)\n",
      "                        Molar Concentration of Ca_2+ @ Feed Inlet :      10.002 :                            mole / meter ** 3 : False : (0, None)\n",
      "                       Molar Concentration of Ca_2+ @ Feed Outlet :      10.002 :                            mole / meter ** 3 : False : (0, None)\n",
      "                    Molar Concentration of Ca_2+ @ Final Permeate :      10.030 :                            mole / meter ** 3 : False : (0, None)\n",
      "         Molar Concentration of Ca_2+ @ Membrane Interface, Inlet :      10.002 :                            mole / meter ** 3 : False : (0, None)\n",
      "        Molar Concentration of Ca_2+ @ Membrane Interface, Outlet :      10.002 :                            mole / meter ** 3 : False : (0, None)\n",
      "                   Molar Concentration of Ca_2+ @ Permeate, Inlet :      10.002 :                            mole / meter ** 3 : False : (0, None)\n",
      "                  Molar Concentration of Ca_2+ @ Permeate, Outlet :      10.002 :                            mole / meter ** 3 : False : (0, None)\n",
      "              Molar Concentration of Ca_2+ @ Pore Entrance, Inlet :      269.84 :                            mole / meter ** 3 : False : (0, None)\n",
      "             Molar Concentration of Ca_2+ @ Pore Entrance, Outlet :      269.84 :                            mole / meter ** 3 : False : (0, None)\n",
      "                  Molar Concentration of Ca_2+ @ Pore Exit, Inlet :      269.84 :                            mole / meter ** 3 : False : (0, None)\n",
      "                 Molar Concentration of Ca_2+ @ Pore Exit, Outlet :      269.84 :                            mole / meter ** 3 : False : (0, None)\n",
      "                         Molar Concentration of Cl_- @ Feed Inlet :      30.849 :                            mole / meter ** 3 : False : (0, None)\n",
      "                        Molar Concentration of Cl_- @ Feed Outlet :      30.849 :                            mole / meter ** 3 : False : (0, None)\n",
      "                     Molar Concentration of Cl_- @ Final Permeate :      30.347 :                            mole / meter ** 3 : False : (0, None)\n",
      "          Molar Concentration of Cl_- @ Membrane Interface, Inlet :      30.849 :                            mole / meter ** 3 : False : (0, None)\n",
      "         Molar Concentration of Cl_- @ Membrane Interface, Outlet :      30.849 :                            mole / meter ** 3 : False : (0, None)\n",
      "                    Molar Concentration of Cl_- @ Permeate, Inlet :      30.849 :                            mole / meter ** 3 : False : (0, None)\n",
      "                   Molar Concentration of Cl_- @ Permeate, Outlet :      30.849 :                            mole / meter ** 3 : False : (0, None)\n",
      "               Molar Concentration of Cl_- @ Pore Entrance, Inlet :    0.014561 :                            mole / meter ** 3 : False : (0, None)\n",
      "              Molar Concentration of Cl_- @ Pore Entrance, Outlet :    0.014561 :                            mole / meter ** 3 : False : (0, None)\n",
      "                   Molar Concentration of Cl_- @ Pore Exit, Inlet :    0.014561 :                            mole / meter ** 3 : False : (0, None)\n",
      "                  Molar Concentration of Cl_- @ Pore Exit, Outlet :    0.014561 :                            mole / meter ** 3 : False : (0, None)\n",
      "                          Molar Concentration of H2O @ Feed Inlet :      55425. :                            mole / meter ** 3 : False : (0, None)\n",
      "                         Molar Concentration of H2O @ Feed Outlet :      55425. :                            mole / meter ** 3 : False : (0, None)\n",
      "                      Molar Concentration of H2O @ Final Permeate :      55428. :                            mole / meter ** 3 : False : (0, None)\n",
      "           Molar Concentration of H2O @ Membrane Interface, Inlet :      55425. :                            mole / meter ** 3 : False : (0, None)\n",
      "          Molar Concentration of H2O @ Membrane Interface, Outlet :      55425. :                            mole / meter ** 3 : False : (0, None)\n",
      "                     Molar Concentration of H2O @ Permeate, Inlet :      55425. :                            mole / meter ** 3 : False : (0, None)\n",
      "                    Molar Concentration of H2O @ Permeate, Outlet :      55425. :                            mole / meter ** 3 : False : (0, None)\n",
      "                Molar Concentration of H2O @ Pore Entrance, Inlet :      54777. :                            mole / meter ** 3 : False : (0, None)\n",
      "               Molar Concentration of H2O @ Pore Entrance, Outlet :      54777. :                            mole / meter ** 3 : False : (0, None)\n",
      "                    Molar Concentration of H2O @ Pore Exit, Inlet :      54777. :                            mole / meter ** 3 : False : (0, None)\n",
      "                   Molar Concentration of H2O @ Pore Exit, Outlet :      54777. :                            mole / meter ** 3 : False : (0, None)\n",
      "                       Molar Concentration of HCO3_- @ Feed Inlet :      3.7174 :                            mole / meter ** 3 : False : (0, None)\n",
      "                      Molar Concentration of HCO3_- @ Feed Outlet :      3.7174 :                            mole / meter ** 3 : False : (0, None)\n",
      "                   Molar Concentration of HCO3_- @ Final Permeate :      3.6497 :                            mole / meter ** 3 : False : (0, None)\n",
      "        Molar Concentration of HCO3_- @ Membrane Interface, Inlet :      3.7174 :                            mole / meter ** 3 : False : (0, None)\n",
      "       Molar Concentration of HCO3_- @ Membrane Interface, Outlet :      3.7174 :                            mole / meter ** 3 : False : (0, None)\n",
      "                  Molar Concentration of HCO3_- @ Permeate, Inlet :      3.7174 :                            mole / meter ** 3 : False : (0, None)\n",
      "                 Molar Concentration of HCO3_- @ Permeate, Outlet :      3.7174 :                            mole / meter ** 3 : False : (0, None)\n",
      "             Molar Concentration of HCO3_- @ Pore Entrance, Inlet :   0.0029874 :                            mole / meter ** 3 : False : (0, None)\n",
      "            Molar Concentration of HCO3_- @ Pore Entrance, Outlet :   0.0029874 :                            mole / meter ** 3 : False : (0, None)\n",
      "                 Molar Concentration of HCO3_- @ Pore Exit, Inlet :   0.0029874 :                            mole / meter ** 3 : False : (0, None)\n",
      "                Molar Concentration of HCO3_- @ Pore Exit, Outlet :   0.0029874 :                            mole / meter ** 3 : False : (0, None)\n",
      "                         Molar Concentration of Na_+ @ Feed Inlet :      18.829 :                            mole / meter ** 3 : False : (0, None)\n",
      "                        Molar Concentration of Na_+ @ Feed Outlet :      18.829 :                            mole / meter ** 3 : False : (0, None)\n",
      "                     Molar Concentration of Na_+ @ Final Permeate :      18.023 :                            mole / meter ** 3 : False : (0, None)\n",
      "          Molar Concentration of Na_+ @ Membrane Interface, Inlet :      18.829 :                            mole / meter ** 3 : False : (0, None)\n",
      "         Molar Concentration of Na_+ @ Membrane Interface, Outlet :      18.829 :                            mole / meter ** 3 : False : (0, None)\n",
      "                    Molar Concentration of Na_+ @ Permeate, Inlet :      18.829 :                            mole / meter ** 3 : False : (0, None)\n",
      "                   Molar Concentration of Na_+ @ Permeate, Outlet :      18.829 :                            mole / meter ** 3 : False : (0, None)\n",
      "               Molar Concentration of Na_+ @ Pore Entrance, Inlet :      140.33 :                            mole / meter ** 3 : False : (0, None)\n",
      "              Molar Concentration of Na_+ @ Pore Entrance, Outlet :      140.33 :                            mole / meter ** 3 : False : (0, None)\n",
      "                   Molar Concentration of Na_+ @ Pore Exit, Inlet :      140.33 :                            mole / meter ** 3 : False : (0, None)\n",
      "                  Molar Concentration of Na_+ @ Pore Exit, Outlet :      140.33 :                            mole / meter ** 3 : False : (0, None)\n",
      "                       Molar Concentration of SO4_2- @ Feed Inlet :      2.1338 :                            mole / meter ** 3 : False : (0, None)\n",
      "                      Molar Concentration of SO4_2- @ Feed Outlet :      2.1338 :                            mole / meter ** 3 : False : (0, None)\n",
      "                   Molar Concentration of SO4_2- @ Final Permeate :      2.0602 :                            mole / meter ** 3 : False : (0, None)\n",
      "        Molar Concentration of SO4_2- @ Membrane Interface, Inlet :      2.1338 :                            mole / meter ** 3 : False : (0, None)\n",
      "       Molar Concentration of SO4_2- @ Membrane Interface, Outlet :      2.1338 :                            mole / meter ** 3 : False : (0, None)\n",
      "                  Molar Concentration of SO4_2- @ Permeate, Inlet :      2.1338 :                            mole / meter ** 3 : False : (0, None)\n",
      "                 Molar Concentration of SO4_2- @ Permeate, Outlet :      2.1338 :                            mole / meter ** 3 : False : (0, None)\n",
      "             Molar Concentration of SO4_2- @ Pore Entrance, Inlet :  3.2281e-07 :                            mole / meter ** 3 : False : (0, None)\n",
      "            Molar Concentration of SO4_2- @ Pore Entrance, Outlet :  3.2281e-07 :                            mole / meter ** 3 : False : (0, None)\n",
      "                 Molar Concentration of SO4_2- @ Pore Exit, Inlet :  3.2281e-07 :                            mole / meter ** 3 : False : (0, None)\n",
      "                Molar Concentration of SO4_2- @ Pore Exit, Outlet :  3.2281e-07 :                            mole / meter ** 3 : False : (0, None)\n",
      "                            Molar flow rate of Ca_2+ @ feed inlet :    0.010009 :                                mole / second :  True : (0, None)\n",
      "                           Molar flow rate of Ca_2+ @ feed outlet :    0.010009 :                                mole / second : False : (0, None)\n",
      "              Molar flow rate of Ca_2+ @ membrane-interface inlet :    0.010009 :                                mole / second : False : (0, None)\n",
      "             Molar flow rate of Ca_2+ @ membrane-interface outlet :    0.010009 :                                mole / second : False : (0, None)\n",
      "                        Molar flow rate of Ca_2+ @ mixed permeate :  4.5020e-12 :                                mole / second : False : (0, None)\n",
      "                       Molar flow rate of Ca_2+ @ permeate, inlet :  1.2843e-10 :                                mole / second : False : (0, None)\n",
      "                      Molar flow rate of Ca_2+ @ permeate, outlet :  1.2843e-10 :                                mole / second : False : (0, None)\n",
      "                  Molar flow rate of Ca_2+ @ pore entrance, inlet :  7.7264e-09 :                                mole / second : False : (0, None)\n",
      "                 Molar flow rate of Ca_2+ @ pore entrance, outlet :  7.7264e-09 :                                mole / second : False : (0, None)\n",
      "                      Molar flow rate of Ca_2+ @ pore exit, inlet :  7.4221e-09 :                                mole / second : False : (0, None)\n",
      "                     Molar flow rate of Ca_2+ @ pore exit, outlet :  7.4220e-09 :                                mole / second : False : (0, None)\n",
      "                             Molar flow rate of Cl_- @ feed inlet :    0.030868 :                                mole / second :  True : (0, None)\n",
      "                            Molar flow rate of Cl_- @ feed outlet :    0.030868 :                                mole / second : False : (0, None)\n",
      "               Molar flow rate of Cl_- @ membrane-interface inlet :    0.030868 :                                mole / second : False : (0, None)\n",
      "              Molar flow rate of Cl_- @ membrane-interface outlet :    0.030868 :                                mole / second : False : (0, None)\n",
      "                         Molar flow rate of Cl_- @ mixed permeate :  1.3622e-11 :                                mole / second : False : (0, None)\n",
      "                        Molar flow rate of Cl_- @ permeate, inlet :  3.9610e-10 :                                mole / second : False : (0, None)\n",
      "                       Molar flow rate of Cl_- @ permeate, outlet :  3.9610e-10 :                                mole / second : False : (0, None)\n",
      "                   Molar flow rate of Cl_- @ pore entrance, inlet :  4.1732e-13 :                                mole / second : False : (0, None)\n",
      "                  Molar flow rate of Cl_- @ pore entrance, outlet :  4.1732e-13 :                                mole / second : False : (0, None)\n",
      "                       Molar flow rate of Cl_- @ pore exit, inlet :  4.0091e-13 :                                mole / second : False : (0, None)\n",
      "                      Molar flow rate of Cl_- @ pore exit, outlet :  4.0091e-13 :                                mole / second : False : (0, None)\n",
      "                              Molar flow rate of H2O @ feed inlet :      55.460 :                                mole / second :  True : (0, None)\n",
      "                             Molar flow rate of H2O @ feed outlet :      55.460 :                                mole / second : False : (0, None)\n",
      "                Molar flow rate of H2O @ membrane-interface inlet :      55.460 :                                mole / second : False : (0, None)\n",
      "               Molar flow rate of H2O @ membrane-interface outlet :      55.460 :                                mole / second : False : (0, None)\n",
      "                          Molar flow rate of H2O @ mixed permeate :  2.4880e-08 :                                mole / second : False : (0, None)\n",
      "                         Molar flow rate of H2O @ permeate, inlet :  7.1167e-07 :                                mole / second : False : (0, None)\n",
      "                        Molar flow rate of H2O @ permeate, outlet :  7.1167e-07 :                                mole / second : False : (0, None)\n",
      "                    Molar flow rate of H2O @ pore entrance, inlet :  1.5684e-06 :                                mole / second : False : (0, None)\n",
      "                   Molar flow rate of H2O @ pore entrance, outlet :  1.5684e-06 :                                mole / second : False : (0, None)\n",
      "                        Molar flow rate of H2O @ pore exit, inlet :  1.5066e-06 :                                mole / second : False : (0, None)\n",
      "                       Molar flow rate of H2O @ pore exit, outlet :  1.5066e-06 :                                mole / second : False : (0, None)\n",
      "                           Molar flow rate of HCO3_- @ feed inlet :   0.0037198 :                                mole / second :  True : (0, None)\n",
      "                          Molar flow rate of HCO3_- @ feed outlet :   0.0037198 :                                mole / second : False : (0, None)\n",
      "             Molar flow rate of HCO3_- @ membrane-interface inlet :   0.0037198 :                                mole / second : False : (0, None)\n",
      "            Molar flow rate of HCO3_- @ membrane-interface outlet :   0.0037198 :                                mole / second : False : (0, None)\n",
      "                       Molar flow rate of HCO3_- @ mixed permeate :  1.6382e-12 :                                mole / second : False : (0, None)\n",
      "                      Molar flow rate of HCO3_- @ permeate, inlet :  4.7733e-11 :                                mole / second : False : (0, None)\n",
      "                     Molar flow rate of HCO3_- @ permeate, outlet :  4.7733e-11 :                                mole / second : False : (0, None)\n",
      "                 Molar flow rate of HCO3_- @ pore entrance, inlet :  8.5557e-14 :                                mole / second : False : (0, None)\n",
      "                Molar flow rate of HCO3_- @ pore entrance, outlet :  8.5557e-14 :                                mole / second : False : (0, None)\n",
      "                     Molar flow rate of HCO3_- @ pore exit, inlet :  8.2188e-14 :                                mole / second : False : (0, None)\n",
      "                    Molar flow rate of HCO3_- @ pore exit, outlet :  8.2187e-14 :                                mole / second : False : (0, None)\n",
      "                             Molar flow rate of Na_+ @ feed inlet :    0.018841 :                                mole / second :  True : (0, None)\n",
      "                            Molar flow rate of Na_+ @ feed outlet :    0.018841 :                                mole / second : False : (0, None)\n",
      "               Molar flow rate of Na_+ @ membrane-interface inlet :    0.018841 :                                mole / second : False : (0, None)\n",
      "              Molar flow rate of Na_+ @ membrane-interface outlet :    0.018841 :                                mole / second : False : (0, None)\n",
      "                         Molar flow rate of Na_+ @ mixed permeate :  8.0897e-12 :                                mole / second : False : (0, None)\n",
      "                        Molar flow rate of Na_+ @ permeate, inlet :  2.4177e-10 :                                mole / second : False : (0, None)\n",
      "                       Molar flow rate of Na_+ @ permeate, outlet :  2.4177e-10 :                                mole / second : False : (0, None)\n",
      "                   Molar flow rate of Na_+ @ pore entrance, inlet :  4.0181e-09 :                                mole / second : False : (0, None)\n",
      "                  Molar flow rate of Na_+ @ pore entrance, outlet :  4.0181e-09 :                                mole / second : False : (0, None)\n",
      "                       Molar flow rate of Na_+ @ pore exit, inlet :  3.8598e-09 :                                mole / second : False : (0, None)\n",
      "                      Molar flow rate of Na_+ @ pore exit, outlet :  3.8598e-09 :                                mole / second : False : (0, None)\n",
      "                           Molar flow rate of SO4_2- @ feed inlet :   0.0021351 :                                mole / second :  True : (0, None)\n",
      "                          Molar flow rate of SO4_2- @ feed outlet :   0.0021351 :                                mole / second : False : (0, None)\n",
      "             Molar flow rate of SO4_2- @ membrane-interface inlet :   0.0021351 :                                mole / second : False : (0, None)\n",
      "            Molar flow rate of SO4_2- @ membrane-interface outlet :   0.0021351 :                                mole / second : False : (0, None)\n",
      "                       Molar flow rate of SO4_2- @ mixed permeate :  9.2477e-13 :                                mole / second : False : (0, None)\n",
      "                      Molar flow rate of SO4_2- @ permeate, inlet :  2.7398e-11 :                                mole / second : False : (0, None)\n",
      "                     Molar flow rate of SO4_2- @ permeate, outlet :  2.7398e-11 :                                mole / second : False : (0, None)\n",
      "                 Molar flow rate of SO4_2- @ pore entrance, inlet :  1.5777e-15 :                                mole / second : False : (0, None)\n",
      "                Molar flow rate of SO4_2- @ pore entrance, outlet :  1.5777e-15 :                                mole / second : False : (0, None)\n",
      "                     Molar flow rate of SO4_2- @ pore exit, inlet :  1.5776e-15 :                                mole / second : False : (0, None)\n",
      "                    Molar flow rate of SO4_2- @ pore exit, outlet :  1.5776e-15 :                                mole / second : False : (0, None)\n",
      "                Osmotic Pressure @ Membrane Interface, Inlet (Pa) :  1.7576e+05 :                                       pascal : False : (0, None)\n",
      "               Osmotic Pressure @ Membrane Interface, Outlet (Pa) :  1.7576e+05 :                                       pascal : False : (0, None)\n",
      "                          Osmotic Pressure @ Permeate, Inlet (Pa) :  1.7576e+05 :                                       pascal : False : (0, None)\n",
      "                         Osmotic Pressure @ Permeate, Outlet (Pa) :  1.7576e+05 :                                       pascal : False : (0, None)\n",
      "                                         Volumetric Recovery Rate :  1.6904e-09 :                                dimensionless : False : (0, 1)\n",
      "                                Volumetric flow rate @ feed inlet :   0.0010006 :                          meter ** 3 / second : False : (0, None)\n",
      "                               Volumetric flow rate @ feed outlet :   0.0010006 :                          meter ** 3 / second : False : (0, None)\n",
      "                            Volumetric flow rate @ final permeate :  4.4886e-13 :                          meter ** 3 / second : False : (0, None)\n",
      "                           Volumetric flow rate @ inlet interface :   0.0010006 :                          meter ** 3 / second : False : (0, None)\n",
      "                            Volumetric flow rate @ inlet permeate :  1.2840e-11 :                          meter ** 3 / second : False : (0, None)\n",
      "                       Volumetric flow rate @ inlet pore entrance :  2.8633e-11 :                          meter ** 3 / second : False : (0, None)\n",
      "                           Volumetric flow rate @ inlet pore exit :  2.7505e-11 :                          meter ** 3 / second : False : (0, None)\n",
      "                          Volumetric flow rate @ outlet interface :   0.0010006 :                          meter ** 3 / second : False : (0, None)\n",
      "                           Volumetric flow rate @ outlet permeate :  1.2840e-11 :                          meter ** 3 / second : False : (0, None)\n",
      "                      Volumetric flow rate @ outlet pore entrance :  2.8633e-11 :                          meter ** 3 / second : False : (0, None)\n",
      "                          Volumetric flow rate @ outlet pore exit :  2.7505e-11 :                          meter ** 3 / second : False : (0, None)\n",
      "\n",
      "    Expressions: \n",
      "\n"
     ]
    },
    {
     "name": "stdout",
     "output_type": "stream",
     "text": [
      "    Key                                                         : Value      : Units\n",
      "                                    Average Mole FLux of Ca_2+  : 9.0648e-14 : mole / meter ** 2 / second\n",
      "                                     Average Mole FLux of Cl_-  : 2.7914e-13 : mole / meter ** 2 / second\n",
      "                                      Average Mole FLux of H2O  : 4.9759e-10 : mole / meter ** 2 / second\n",
      "                                   Average Mole FLux of HCO3_-  : 3.3782e-14 : mole / meter ** 2 / second\n",
      "                                     Average Mole FLux of Na_+  : 1.7052e-13 : mole / meter ** 2 / second\n",
      "                                   Average Mole FLux of SO4_2-  : 1.2971e-14 : mole / meter ** 2 / second\n",
      "                                  Average Volumetric Flux (LMH) : 3.2626e-08 : meter / second\n",
      "             Born Solvation Energy Partitioning Factor of Ca_2+ :   0.019293 : dimensionless\n",
      "              Born Solvation Energy Partitioning Factor of Cl_- :   0.080418 : dimensionless\n",
      "            Born Solvation Energy Partitioning Factor of HCO3_- :    0.22752 : dimensionless\n",
      "              Born Solvation Energy Partitioning Factor of Na_+ :    0.19061 : dimensionless\n",
      "            Born Solvation Energy Partitioning Factor of SO4_2- :  0.0049714 : dimensionless\n",
      "                           Convective Hindrance Factor of Ca_2+ :     1.3174 : dimensionless\n",
      "                            Convective Hindrance Factor of Cl_- :     1.2868 : dimensionless\n",
      "                          Convective Hindrance Factor of HCO3_- :     1.3455 : dimensionless\n",
      "                            Convective Hindrance Factor of Na_+ :     1.3381 : dimensionless\n",
      "                          Convective Hindrance Factor of SO4_2- :     1.3479 : dimensionless\n",
      "                            Diffusive Hindrance Factor of Ca_2+ :   0.098786 : dimensionless\n",
      "                             Diffusive Hindrance Factor of Cl_- :    0.49595 : dimensionless\n",
      "                           Diffusive Hindrance Factor of HCO3_- :    0.27832 : dimensionless\n",
      "                             Diffusive Hindrance Factor of Na_+ :    0.32889 : dimensionless\n",
      "                           Diffusive Hindrance Factor of SO4_2- :    0.22790 : dimensionless\n",
      "          Donnan Partitioning Factor of Ca_2+ @ Feed-side Inlet :     9582.4 : dimensionless\n",
      "         Donnan Partitioning Factor of Ca_2+ @ Feed-side Outlet :     9582.4 : dimensionless\n",
      "      Donnan Partitioning Factor of Ca_2+ @ Permeate-side Inlet :     9582.4 : dimensionless\n",
      "     Donnan Partitioning Factor of Ca_2+ @ Permeate-side Outlet :     9582.4 : dimensionless\n",
      "           Donnan Partitioning Factor of Cl_- @ Feed-side Inlet :   0.010216 : dimensionless\n",
      "          Donnan Partitioning Factor of Cl_- @ Feed-side Outlet :   0.010216 : dimensionless\n",
      "       Donnan Partitioning Factor of Cl_- @ Permeate-side Inlet :   0.010216 : dimensionless\n",
      "      Donnan Partitioning Factor of Cl_- @ Permeate-side Outlet :   0.010216 : dimensionless\n",
      "         Donnan Partitioning Factor of HCO3_- @ Feed-side Inlet :   0.010216 : dimensionless\n",
      "        Donnan Partitioning Factor of HCO3_- @ Feed-side Outlet :   0.010216 : dimensionless\n",
      "     Donnan Partitioning Factor of HCO3_- @ Permeate-side Inlet :   0.010216 : dimensionless\n",
      "    Donnan Partitioning Factor of HCO3_- @ Permeate-side Outlet :   0.010216 : dimensionless\n",
      "           Donnan Partitioning Factor of Na_+ @ Feed-side Inlet :     97.890 : dimensionless\n",
      "          Donnan Partitioning Factor of Na_+ @ Feed-side Outlet :     97.890 : dimensionless\n",
      "       Donnan Partitioning Factor of Na_+ @ Permeate-side Inlet :     97.890 : dimensionless\n",
      "      Donnan Partitioning Factor of Na_+ @ Permeate-side Outlet :     97.890 : dimensionless\n",
      "         Donnan Partitioning Factor of SO4_2- @ Feed-side Inlet : 0.00010436 : dimensionless\n",
      "        Donnan Partitioning Factor of SO4_2- @ Feed-side Outlet : 0.00010436 : dimensionless\n",
      "     Donnan Partitioning Factor of SO4_2- @ Permeate-side Inlet : 0.00010436 : dimensionless\n",
      "    Donnan Partitioning Factor of SO4_2- @ Permeate-side Outlet : 0.00010436 : dimensionless\n",
      "                        Gibbs Free Energy of Solvation of Ca_2+ : 1.7583e-20 : joule\n",
      "                         Gibbs Free Energy of Solvation of Cl_- : 1.1226e-20 : joule\n",
      "                       Gibbs Free Energy of Solvation of HCO3_- : 6.5938e-21 : joule\n",
      "                         Gibbs Free Energy of Solvation of Na_+ : 7.3822e-21 : joule\n",
      "                       Gibbs Free Energy of Solvation of SO4_2- : 2.3623e-20 : joule\n",
      "                               Net Driving Pressure, Inlet (Pa) : 0.00024890 : pascal\n",
      "                              Net Driving Pressure, Outlet (Pa) : 0.00024991 : pascal\n",
      "                                    Observed Rejection of Ca_2+ : -0.0027447 : dimensionless\n",
      "                                     Observed Rejection of Cl_- :   0.016253 : dimensionless\n",
      "                                   Observed Rejection of HCO3_- :   0.018229 : dimensionless\n",
      "                                     Observed Rejection of Na_+ :   0.042831 : dimensionless\n",
      "                                   Observed Rejection of SO4_2- :   0.034463 : dimensionless\n",
      "                                      Pore Diffusivity of Ca_2+ : 9.0883e-11 : meter ** 2 / second\n",
      "                                       Pore Diffusivity of Cl_- : 1.0068e-09 : meter ** 2 / second\n",
      "                                     Pore Diffusivity of HCO3_- : 3.3120e-10 : meter ** 2 / second\n",
      "                                       Pore Diffusivity of Na_+ : 4.3742e-10 : meter ** 2 / second\n",
      "                                     Pore Diffusivity of SO4_2- : 2.4157e-10 : meter ** 2 / second\n",
      "                  Steric Hindrance Partitioning Factor of Ca_2+ :    0.14592 : dimensionless\n",
      "                   Steric Hindrance Partitioning Factor of Cl_- :    0.57456 : dimensionless\n",
      "                 Steric Hindrance Partitioning Factor of HCO3_- :    0.34574 : dimensionless\n",
      "                   Steric Hindrance Partitioning Factor of Na_+ :    0.39942 : dimensionless\n",
      "                 Steric Hindrance Partitioning Factor of SO4_2- :    0.29160 : dimensionless\n",
      "                                         Stokes radius of Ca_2+ : 3.0900e-10 : meter\n",
      "                                          Stokes radius of Cl_- : 1.2100e-10 : meter\n",
      "                                        Stokes radius of HCO3_- : 2.0600e-10 : meter\n",
      "                                          Stokes radius of Na_+ : 1.8400e-10 : meter\n",
      "                                        Stokes radius of SO4_2- : 2.3000e-10 : meter\n",
      "                              Stokes:Pore Radius Ratio of Ca_2+ :    0.61800 : dimensionless\n",
      "                               Stokes:Pore Radius Ratio of Cl_- :    0.24200 : dimensionless\n",
      "                             Stokes:Pore Radius Ratio of HCO3_- :    0.41200 : dimensionless\n",
      "                               Stokes:Pore Radius Ratio of Na_+ :    0.36800 : dimensionless\n",
      "                             Stokes:Pore Radius Ratio of SO4_2- :    0.46000 : dimensionless\n",
      "\n",
      "------------------------------------------------------------------------------------\n",
      "    Stream Table\n",
      "                                              Units       Feed Inlet  Feed Outlet  Permeate Outlet\n",
      "    flow_mol_phase_comp ('Liq', 'H2O')     mole / second      55.460      55.460     2.4880e-08   \n",
      "    flow_mol_phase_comp ('Liq', 'Ca_2+')   mole / second    0.010009    0.010009     4.5020e-12   \n",
      "    flow_mol_phase_comp ('Liq', 'SO4_2-')  mole / second   0.0021351   0.0021351     9.2477e-13   \n",
      "    flow_mol_phase_comp ('Liq', 'HCO3_-')  mole / second   0.0037198   0.0037198     1.6382e-12   \n",
      "    flow_mol_phase_comp ('Liq', 'Na_+')    mole / second    0.018841    0.018841     8.0897e-12   \n",
      "    flow_mol_phase_comp ('Liq', 'Cl_-')    mole / second    0.030868    0.030868     1.3622e-11   \n",
      "    temperature                                   kelvin      322.59      322.59         322.59   \n",
      "    pressure                                      pascal  1.0132e+05  1.0132e+05     1.0132e+05   \n",
      "====================================================================================\n"
     ]
    }
   ],
   "source": [
    "# Display report, reports include a small subset of the most important variables\n",
    "m.fs.unit.report()"
   ]
  },
  {
   "cell_type": "markdown",
   "metadata": {},
   "source": [
    "## Step 7: Unfix variables, set variable bounds, and run optimization to minimize specific energy consumption."
   ]
  },
  {
   "cell_type": "code",
   "execution_count": 186,
   "metadata": {},
   "outputs": [],
   "source": [
    "# Unfix membrane area and feed pressure\n",
    "m.fs.unit.area.unfix()                  # membrane area (m^2)\n",
    "m.fs.unit.inlet.pressure[0].unfix()     # feed pressure (Pa)"
   ]
  },
  {
   "cell_type": "code",
   "execution_count": 187,
   "metadata": {},
   "outputs": [],
   "source": [
    "# Set lower and upper bounds for membrane area (m^2)\n",
    "m.fs.unit.area.setlb(1)\n",
    "m.fs.unit.area.setub(None)"
   ]
  },
  {
   "cell_type": "code",
   "execution_count": 188,
   "metadata": {},
   "outputs": [],
   "source": [
    "# Set lower and upper bounds for feed pressure (Pa)\n",
    "# m.fs.unit.inlet.pressure[0].setlb(10e5)\n",
    "m.fs.unit.inlet.pressure[0].setub(80e5)"
   ]
  },
  {
   "cell_type": "code",
   "execution_count": 189,
   "metadata": {},
   "outputs": [],
   "source": [
    "# Assume 100% efficiency of pumps and ERD and no pressure losses\n",
    "#--> Pump power consumption ~ Qp*Pf/3.6e6\n",
    "m.fs.specific_energy_consumption = Expression(\n",
    "    expr=m.fs.unit.inlet.pressure[0]/(3.6e6))"
   ]
  },
  {
   "cell_type": "code",
   "execution_count": 190,
   "metadata": {},
   "outputs": [],
   "source": [
    "# Define objective function to minimize the specific energy consumption.\n",
    "m.fs.objective = Objective(expr=m.fs.specific_energy_consumption)"
   ]
  },
  {
   "cell_type": "code",
   "execution_count": 191,
   "metadata": {},
   "outputs": [],
   "source": [
    "m.fs.max_hardness = Constraint(expr=m.fs.unit.mixed_permeate[0].total_hardness <= 500)"
   ]
  },
  {
   "cell_type": "code",
   "execution_count": 192,
   "metadata": {},
   "outputs": [],
   "source": [
    "# Set the water recovery to 50%\n",
    "m.fs.unit.recovery_vol_phase[0,'Liq'].fix(0.50)"
   ]
  },
  {
   "cell_type": "code",
   "execution_count": 193,
   "metadata": {},
   "outputs": [
    {
     "name": "stdout",
     "output_type": "stream",
     "text": [
      "18\n"
     ]
    }
   ],
   "source": [
    "# The solver will find the membrane area and \n",
    "# inlet pressure that achieve 50% recovery while minimizing\n",
    "# specific energy consumption. Since we fixed the \n",
    "# volumetric water recovery, a degree of freedom \n",
    "# was removed from the model and is now 1.\n",
    "print(degrees_of_freedom(m))"
   ]
  },
  {
   "cell_type": "code",
   "execution_count": 25,
   "metadata": {},
   "outputs": [
    {
     "name": "stdout",
     "output_type": "stream",
     "text": [
      "ipopt-watertap: Ipopt with user variable scaling and IDAES jacobian constraint scaling\n",
      "Ipopt 3.13.2: tol=1e-08\n",
      "constr_viol_tol=1e-08\n",
      "nlp_scaling_method=user-scaling\n",
      "bound_relax_factor=0.0\n",
      "\n",
      "\n",
      "******************************************************************************\n",
      "This program contains Ipopt, a library for large-scale nonlinear optimization.\n",
      " Ipopt is released as open source code under the Eclipse Public License (EPL).\n",
      "         For more information visit http://projects.coin-or.org/Ipopt\n",
      "\n",
      "This version of Ipopt was compiled from source code available at\n",
      "    https://github.com/IDAES/Ipopt as part of the Institute for the Design of\n",
      "    Advanced Energy Systems Process Systems Engineering Framework (IDAES PSE\n",
      "    Framework) Copyright (c) 2018-2019. See https://github.com/IDAES/idaes-pse.\n",
      "\n",
      "This version of Ipopt was compiled using HSL, a collection of Fortran codes\n",
      "    for large-scale scientific computation.  All technical papers, sales and\n",
      "    publicity material resulting from use of the HSL codes within IPOPT must\n",
      "    contain the following acknowledgement:\n",
      "        HSL, a collection of Fortran codes for large-scale scientific\n",
      "        computation. See http://www.hsl.rl.ac.uk.\n",
      "******************************************************************************\n",
      "\n",
      "This is Ipopt version 3.13.2, running with linear solver ma27.\n",
      "\n",
      "Number of nonzeros in equality constraint Jacobian...:     1637\n",
      "Number of nonzeros in inequality constraint Jacobian.:        1\n",
      "Number of nonzeros in Lagrangian Hessian.............:      786\n",
      "\n",
      "Total number of variables............................:      472\n",
      "                     variables with only lower bounds:      235\n",
      "                variables with lower and upper bounds:      223\n",
      "                     variables with only upper bounds:        0\n",
      "Total number of equality constraints.................:      471\n",
      "Total number of inequality constraints...............:        1\n",
      "        inequality constraints with only lower bounds:        0\n",
      "   inequality constraints with lower and upper bounds:        0\n",
      "        inequality constraints with only upper bounds:        1\n",
      "\n",
      "iter    objective    inf_pr   inf_du lg(mu)  ||d||  lg(rg) alpha_du alpha_pr  ls\n",
      "   0  1.1111111e-01 8.73e+02 1.00e+00  -1.0 0.00e+00    -  0.00e+00 0.00e+00   0\n",
      "   1  2.2729381e-01 2.31e+02 7.07e+04  -1.0 9.69e+02    -  2.88e-02 1.00e+00f  1\n",
      "   2  2.1367444e-01 1.36e+02 4.59e+04  -1.0 1.51e+02    -  4.08e-01 4.12e-01h  1\n",
      "   3  2.1237083e-01 1.33e+02 4.51e+04  -1.0 5.92e+02    -  1.23e-01 1.80e-02h  1\n",
      "   4  1.9959153e-01 1.17e+02 7.42e+04  -1.0 1.30e+03    -  6.67e-03 1.19e-01h  1\n",
      "   5  1.9122007e-01 1.05e+02 7.47e+04  -1.0 2.24e+02  -2.0 5.66e-03 1.05e-01h  1\n",
      "   6  1.9033055e-01 1.04e+02 7.17e+04  -1.0 1.75e+03  -1.6 1.57e-03 6.33e-03h  1\n",
      "   7  1.9032628e-01 1.04e+02 7.17e+04  -1.0 3.44e+02   0.7 5.24e-02 1.98e-04h  1\n",
      "   8  1.8952238e-01 1.02e+02 7.02e+04  -1.0 4.14e+02    -  2.98e-02 2.16e-02h  1\n",
      "   9  1.8951509e-01 1.02e+02 7.02e+04  -1.0 3.90e+02    -  5.75e-04 2.22e-04h  1\n",
      "iter    objective    inf_pr   inf_du lg(mu)  ||d||  lg(rg) alpha_du alpha_pr  ls\n",
      "  10  1.8951323e-01 1.02e+02 7.02e+04  -1.0 2.39e+02    -  3.93e-04 5.38e-05h  1\n",
      "  11r 1.8951323e-01 1.02e+02 9.99e+02   2.0 0.00e+00    -  0.00e+00 2.93e-07R  5\n",
      "  12r 1.8901740e-01 1.35e+01 9.98e+02   2.0 6.13e+04    -  1.30e-06 1.65e-03f  1\n",
      "  13  1.8454181e-01 1.22e+01 2.04e+04  -1.0 3.39e+02    -  1.99e-01 1.94e-01h  1\n",
      "  14  1.8295495e-01 1.08e+01 1.80e+04  -1.0 1.17e+02    -  4.12e-03 1.26e-01h  1\n",
      "  15  1.8292087e-01 1.07e+01 1.80e+04  -1.0 1.96e+02    -  2.13e-01 7.76e-04h  1\n",
      "  16  1.8086119e-01 1.07e+01 1.79e+04  -1.0 1.96e+03    -  3.16e-02 7.49e-03h  1\n",
      "  17  1.8083805e-01 1.07e+01 6.54e+06  -1.0 8.90e+02    -  1.63e-01 1.65e-04h  1\n",
      "  18r 1.8083805e-01 1.07e+01 1.00e+03   0.4 0.00e+00    -  0.00e+00 2.71e-07R  4\n",
      "  19r 1.8019587e-01 6.59e+00 9.90e+02   0.4 2.43e+03    -  2.39e-02 1.12e-03f  1\n",
      "iter    objective    inf_pr   inf_du lg(mu)  ||d||  lg(rg) alpha_du alpha_pr  ls\n",
      "  20  1.8019521e-01 6.59e+00 1.76e+04  -1.0 1.05e+02    -  2.35e-01 2.51e-05h  1\n",
      "  21  1.8019448e-01 6.59e+00 4.80e+08  -1.0 2.31e+02    -  3.65e-01 1.26e-05h  1\n",
      "  22r 1.8019448e-01 6.59e+00 1.00e+03  -0.0 0.00e+00    -  0.00e+00 1.57e-07R  2\n",
      "  23r 1.8073404e-01 4.66e-01 9.93e+02  -0.0 1.26e+03    -  1.85e-02 1.72e-03f  1\n",
      "  24  1.8073370e-01 4.66e-01 3.75e+04  -1.0 9.94e+01    -  2.74e-01 1.34e-05h  1\n",
      "  25r 1.8073370e-01 4.66e-01 1.00e+03  -0.5 0.00e+00    -  0.00e+00 3.73e-07R  5\n",
      "  26r 1.8066971e-01 2.94e-01 9.95e+02  -0.5 1.08e+03    -  1.40e-02 2.19e-03f  1\n",
      "  27  1.8066890e-01 2.94e-01 2.60e+04  -1.0 1.86e+02    -  2.36e-01 1.61e-05h  1\n",
      "  28r 1.8066890e-01 2.94e-01 1.00e+03  -0.7 0.00e+00    -  0.00e+00 3.04e-07R  6\n",
      "  29r 1.7943630e-01 3.93e-01 9.94e+02  -0.7 1.01e+03    -  1.02e-02 4.42e-03f  1\n",
      "iter    objective    inf_pr   inf_du lg(mu)  ||d||  lg(rg) alpha_du alpha_pr  ls\n",
      "  30  1.7943497e-01 3.93e-01 4.28e+04  -1.0 1.24e+02    -  3.31e-01 3.92e-05h  1\n",
      "  31  1.7943401e-01 3.93e-01 8.79e+08  -1.0 1.69e+02    -  5.32e-01 2.58e-05h  1\n",
      "  32r 1.7943401e-01 3.93e-01 1.00e+03  -1.0 0.00e+00    -  0.00e+00 2.79e-07R  2\n",
      "  33r 1.7935662e-01 2.53e-01 9.90e+02  -1.0 3.73e+02    -  3.18e-02 1.19e-03f  1\n",
      "  34  1.7935657e-01 2.53e-01 3.43e+05  -1.0 1.18e+02    -  3.36e-01 1.35e-06f  3\n",
      "  35  1.7935632e-01 2.53e-01 3.43e+05  -1.0 1.22e+02    -  7.21e-06 7.21e-06s  5\n",
      "  36r 1.7935632e-01 2.53e-01 1.00e+03  -1.0 0.00e+00    -  0.00e+00 0.00e+00R  1\n",
      "  37r 1.7913956e-01 1.00e-01 9.87e+02  -1.0 1.20e+02    -  3.53e-02 4.55e-03f  1\n",
      "  38  1.7913870e-01 1.00e-01 6.72e+04  -1.0 8.81e+01    -  2.74e-01 3.85e-05h  1\n",
      "  39  1.7913779e-01 1.00e-01 1.80e+09  -1.0 3.51e+02    -  3.81e-01 1.42e-05h  1\n",
      "iter    objective    inf_pr   inf_du lg(mu)  ||d||  lg(rg) alpha_du alpha_pr  ls\n",
      "  40r 1.7913779e-01 1.00e-01 1.00e+03  -1.0 0.00e+00    -  0.00e+00 2.72e-07R  4\n",
      "  41r 1.7856405e-01 4.78e-02 1.14e+03  -1.0 8.60e+01    -  6.81e-02 1.48e-02f  1\n",
      "  42  1.7856587e-01 4.77e-02 1.89e+04  -1.0 1.51e+02    -  2.76e-01 9.69e-04h  1\n",
      "  43  1.7856700e-01 4.77e-02 3.57e+05  -1.0 5.12e+02    -  3.66e-04 1.94e-05h  1\n",
      "  44  1.8233233e-01 5.91e-01 5.98e+05  -1.0 8.83e+02    -  2.37e-04 3.25e-02f  4\n",
      "  45  1.8494245e-01 8.59e-01 5.30e+05  -1.0 3.11e+02    -  7.77e-02 8.16e-02f  4\n",
      "  46  1.8552458e-01 8.41e-01 4.94e+05  -1.0 1.77e+02    -  1.22e-02 4.76e-02f  5\n",
      "  47  1.8570508e-01 8.21e-01 4.50e+05  -1.0 1.80e+02    -  5.20e-01 1.40e-02H  1\n",
      "  48  1.8600321e-01 7.92e-01 4.52e+05  -1.0 1.34e+02    -  1.15e-01 4.57e-02h  5\n",
      "  49  1.8682387e-01 7.75e-01 4.01e+05  -1.0 1.82e+02    -  3.32e-01 5.26e-02f  5\n",
      "iter    objective    inf_pr   inf_du lg(mu)  ||d||  lg(rg) alpha_du alpha_pr  ls\n",
      "  50  1.8723726e-01 7.18e-01 3.86e+05  -1.0 1.08e+02    -  2.88e-01 9.23e-02h  4\n",
      "  51  1.9241552e-01 3.36e-01 1.39e+06  -1.0 9.22e+01    -  8.28e-01 8.49e-01H  1\n",
      "  52  1.9532545e-01 6.15e-01 2.58e+07  -1.0 4.01e+01   0.2 6.24e-01 7.58e-01H  1\n",
      "  53  1.9457614e-01 6.13e-01 2.58e+07  -1.0 4.89e+02    -  3.26e-01 9.58e-03h  6\n",
      "  54  1.9382841e-01 6.11e-01 2.71e+07  -1.0 4.87e+02    -  9.55e-01 9.55e-03h  6\n",
      "  55  1.9308352e-01 6.09e-01 2.95e+07  -1.0 4.85e+02    -  5.18e-01 9.53e-03h  6\n",
      "  56  1.9234114e-01 6.07e-01 4.03e+07  -1.0 4.82e+02    -  1.00e+00 9.51e-03h  6\n",
      "  57  1.9160622e-01 6.05e-01 5.79e+07  -1.0 4.75e+02    -  5.04e-01 9.53e-03h  6\n",
      "  58  1.9087971e-01 6.03e-01 1.34e+08  -1.0 4.66e+02    -  1.00e+00 9.55e-03h  6\n",
      "  59  1.9018437e-01 6.01e-01 2.69e+08  -1.0 4.34e+02    -  5.69e-01 9.78e-03h  6\n",
      "iter    objective    inf_pr   inf_du lg(mu)  ||d||  lg(rg) alpha_du alpha_pr  ls\n",
      "  60  1.8887823e-01 6.02e-01 7.69e+08  -1.0 3.93e+02    -  1.00e+00 2.02e-02h  5\n",
      "  61  1.8782138e-01 5.99e-01 1.88e+09  -1.0 2.87e+02    -  8.52e-01 2.22e-02h  5\n",
      "  62  1.8646186e-01 5.89e-01 4.40e+09  -1.0 1.61e+02    -  1.00e+00 5.09e-02h  4\n",
      "  63  1.8383665e-01 5.80e-01 1.51e+08  -1.0 3.61e+01    -  1.00e+00 4.79e-01h  1\n",
      "  64  1.8145356e-01 5.69e-01 8.49e+09  -1.0 1.28e+02    -  1.00e+00 1.08e-01h  3\n",
      "  65  1.7899833e-01 4.03e-01 4.51e+08  -1.0 2.87e+01    -  1.00e+00 4.87e-01h  1\n",
      "  66  1.7724032e-01 2.00e-01 2.14e+10  -1.0 1.56e+01    -  1.00e+00 6.22e-01h  1\n",
      "  67  1.8039197e-01 5.36e-02 5.20e+11  -1.0 1.78e+01    -  4.05e-02 9.90e-01h  1\n",
      "  68  1.8385401e-01 1.25e-01 4.89e+11  -1.0 3.16e+02    -  6.30e-01 6.19e-02f  5\n",
      "  69  1.8585346e-01 1.44e-01 4.74e+11  -1.0 3.74e+02    -  1.00e+00 3.09e-02f  6\n"
     ]
    },
    {
     "name": "stdout",
     "output_type": "stream",
     "text": [
      "iter    objective    inf_pr   inf_du lg(mu)  ||d||  lg(rg) alpha_du alpha_pr  ls\n",
      "  70  1.8685451e-01 1.48e-01 4.67e+11  -1.0 3.79e+02    -  1.00e+00 1.55e-02f  7\n",
      "  71  1.8785781e-01 1.51e-01 4.60e+11  -1.0 3.82e+02    -  1.00e+00 1.55e-02f  7\n",
      "  72  1.8835333e-01 1.51e-01 4.56e+11  -1.0 3.79e+02    -  8.85e-01 7.74e-03f  8\n",
      "  73  2.5265140e-01 9.89e+00 1.69e+11  -1.0 3.86e+02    -  1.00e+00 9.90e-01f  1\n",
      "  74  2.4797428e-01 8.51e-01 6.93e+10  -1.0 2.79e+01  -0.3 1.00e+00 9.73e-01h  1\n",
      "  75  2.5008615e-01 4.48e-03 1.90e+09  -1.0 1.39e+01    -  1.00e+00 1.00e+00h  1\n",
      "  76  2.5578376e-01 3.73e-02 5.24e+09  -1.0 3.95e+01    -  1.00e+00 1.00e+00f  1\n",
      "  77  2.7425372e-01 3.38e-01 4.88e+09  -1.0 3.95e+02    -  8.02e-01 3.26e-01f  1\n",
      "  78  2.6986478e-01 1.15e-02 1.18e+08  -1.0 3.01e+01    -  1.00e+00 1.00e+00f  1\n",
      "  79  2.7384357e-01 1.27e-02 1.25e+08  -1.0 2.81e+01    -  1.00e+00 1.00e+00f  1\n",
      "iter    objective    inf_pr   inf_du lg(mu)  ||d||  lg(rg) alpha_du alpha_pr  ls\n",
      "  80  2.7391859e-01 3.42e-06 3.48e+05  -1.0 5.63e-01    -  1.00e+00 1.00e+00h  1\n",
      "  81  2.7390180e-01 2.09e-07 3.03e+07  -3.8 1.19e-01    -  9.89e-01 1.00e+00h  1\n",
      "  82  2.2846686e-01 2.14e+00 1.21e+09  -3.8 3.21e+02    -  3.91e-02 1.00e+00f  1\n",
      "  83  1.9274656e-01 5.95e+00 2.32e+09  -3.8 9.91e+02    -  6.50e-01 2.44e-01h  1\n",
      "  84  1.4850482e-01 2.76e+01 9.60e+11  -3.8 2.58e+02    -  1.00e+00 1.00e+00h  1\n",
      "  85  1.2908497e-01 4.16e+01 1.42e+12  -3.8 7.40e+02    -  8.30e-01 9.75e-02h  1\n",
      "  86  8.7287702e-02 8.72e+00 2.96e+10  -3.8 8.29e+01    -  2.72e-01 1.00e+00h  1\n",
      "  87  7.7770166e-02 1.05e+01 9.17e+11  -3.8 2.85e+02    -  2.67e-01 3.37e-01h  1\n",
      "  88  9.2742200e-02 1.72e+00 2.16e+11  -3.8 3.92e+01    -  7.27e-03 1.00e+00h  1\n",
      "  89  6.2603288e-02 1.45e+01 8.72e+09  -3.8 2.90e+02    -  7.95e-01 7.40e-01h  1\n",
      "iter    objective    inf_pr   inf_du lg(mu)  ||d||  lg(rg) alpha_du alpha_pr  ls\n",
      "  90  5.9719326e-02 1.59e+01 7.81e+09  -3.8 4.87e+03    -  5.74e-02 2.00e-02h  1\n",
      "  91  4.8802023e-02 2.54e+01 7.26e+09  -3.8 7.13e+03    -  9.46e-02 6.65e-02h  1\n",
      "  92  4.8803008e-02 2.54e+01 7.26e+09  -3.8 5.39e+02    -  3.69e-04 2.14e-04h  1\n",
      "  93  5.2427671e-02 1.38e+01 1.63e+13  -3.8 4.79e+01    -  5.82e-02 4.90e-01h  1\n",
      "  94  5.5899574e-02 1.41e+01 1.57e+13  -3.8 7.54e+03    -  7.40e-05 3.64e-02h  3\n",
      "  95  6.2681262e-02 1.59e+00 1.50e+13  -3.8 1.16e+01  -0.8 1.70e-01 1.00e+00h  1\n",
      "  96  6.2497644e-02 3.80e-01 3.81e+10  -3.8 2.24e+00  -1.3 8.80e-01 7.69e-01h  1\n",
      "  97  6.2541053e-02 9.47e-04 1.38e+10  -3.8 3.18e+00  -1.7 1.00e+00 1.00e+00h  1\n",
      "  98  6.2541362e-02 4.47e-08 1.66e+07  -3.8 4.43e-03  -2.2 1.00e+00 1.00e+00h  1\n",
      "  99  5.6632388e-02 2.01e+00 6.73e+08  -3.8 5.73e+02    -  7.27e-01 3.87e-01f  1\n",
      "iter    objective    inf_pr   inf_du lg(mu)  ||d||  lg(rg) alpha_du alpha_pr  ls\n",
      " 100  5.8828016e-02 2.41e-01 9.86e+06  -3.8 6.82e+01    -  1.00e+00 1.00e+00h  1\n",
      " 101  5.7315465e-02 1.62e-01 1.05e+07  -3.8 7.93e+01    -  1.00e+00 1.00e+00h  1\n",
      " 102  5.7188096e-02 2.88e-03 6.37e+05  -3.8 1.16e+01    -  1.00e+00 1.00e+00h  1\n",
      " 103  5.7187905e-02 5.46e-08 3.01e+00  -3.8 6.16e-02    -  1.00e+00 1.00e+00h  1\n",
      " 104  5.7081833e-02 8.39e-04 1.74e+07  -8.6 5.87e+00    -  9.91e-01 1.00e+00h  1\n",
      " 105  5.7061642e-02 3.10e-05 1.43e+04  -8.6 1.15e+00    -  1.00e+00 1.00e+00h  1\n",
      " 106  5.7061607e-02 1.66e-10 3.32e-02  -8.6 2.88e-03    -  1.00e+00 1.00e+00h  1\n",
      " 107  5.7061607e-02 2.27e-13 9.13e-12  -8.6 3.23e-09    -  1.00e+00 1.00e+00h  1\n",
      "\n",
      "Number of Iterations....: 107\n",
      "\n",
      "                                   (scaled)                 (unscaled)\n",
      "Objective...............:   5.7061606841824160e-02    5.7061606841824160e-02\n",
      "Dual infeasibility......:   9.1265519296630215e-12    8.1217009671659330e-09\n",
      "Constraint violation....:   2.2737367544323206e-13    2.2737367544323206e-13\n",
      "Complementarity.........:   2.5059035596800787e-09    2.5059035596800787e-09\n",
      "Overall NLP error.......:   2.5059035596800787e-09    8.1217009671659330e-09\n",
      "\n",
      "\n",
      "Number of objective function evaluations             = 293\n",
      "Number of objective gradient evaluations             = 108\n",
      "Number of equality constraint evaluations            = 293\n",
      "Number of inequality constraint evaluations          = 293\n",
      "Number of equality constraint Jacobian evaluations   = 116\n",
      "Number of inequality constraint Jacobian evaluations = 116\n",
      "Number of Lagrangian Hessian evaluations             = 107\n",
      "Total CPU secs in IPOPT (w/o function evaluations)   =      0.683\n",
      "Total CPU secs in NLP function evaluations           =      0.167\n",
      "\n",
      "EXIT: Optimal Solution Found.\n"
     ]
    }
   ],
   "source": [
    "# Solve the model\n",
    "optimization_results = solver.solve(m, tee=True)\n"
   ]
  },
  {
   "cell_type": "code",
   "execution_count": 194,
   "metadata": {},
   "outputs": [
    {
     "data": {
      "text/plain": [
       "50"
      ]
     },
     "execution_count": 194,
     "metadata": {},
     "output_type": "execute_result"
    }
   ],
   "source": [
    "# membrane area of the optimized NF unit\n",
    "value(m.fs.unit.area)"
   ]
  },
  {
   "cell_type": "code",
   "execution_count": 195,
   "metadata": {},
   "outputs": [
    {
     "data": {
      "text/plain": [
       "101325"
      ]
     },
     "execution_count": 195,
     "metadata": {},
     "output_type": "execute_result"
    }
   ],
   "source": [
    "# inlet pressure of the optimized NF unit\n",
    "value(m.fs.unit.inlet.pressure[0])"
   ]
  },
  {
   "cell_type": "code",
   "execution_count": 196,
   "metadata": {},
   "outputs": [
    {
     "data": {
      "text/plain": [
       "0.02814583333333333"
      ]
     },
     "execution_count": 196,
     "metadata": {},
     "output_type": "execute_result"
    }
   ],
   "source": [
    "# the minimum specific energy consumption\n",
    "value(m.fs.specific_energy_consumption)"
   ]
  },
  {
   "cell_type": "code",
   "execution_count": 29,
   "metadata": {},
   "outputs": [
    {
     "name": "stdout",
     "output_type": "stream",
     "text": [
      "\n",
      "====================================================================================\n",
      "Unit : fs.unit                                                             Time: 0.0\n",
      "------------------------------------------------------------------------------------\n",
      "    Unit Performance\n",
      "\n",
      "    Variables: \n",
      "\n",
      "    Key                                                           : Value      : Units                                        : Fixed : Bounds\n",
      "                             Electric Potential @ Permeate, Inlet :   0.014567 : kilogram * meter ** 2 / ampere / second ** 3 : False : (None, None)\n",
      "                            Electric Potential @ Permeate, Outlet :   0.010290 : kilogram * meter ** 2 / ampere / second ** 3 : False : (None, None)\n",
      "                        Electric Potential @ Pore Entrance, Inlet :   -0.12106 : kilogram * meter ** 2 / ampere / second ** 3 : False : (None, None)\n",
      "                       Electric Potential @ Pore Entrance, Outlet :   -0.11582 : kilogram * meter ** 2 / ampere / second ** 3 : False : (None, None)\n",
      "                            Electric Potential @ Pore Exit, Inlet :   -0.12098 : kilogram * meter ** 2 / ampere / second ** 3 : False : (None, None)\n",
      "                           Electric Potential @ Pore Exit, Outlet :   -0.11576 : kilogram * meter ** 2 / ampere / second ** 3 : False : (None, None)\n",
      "     Electric Potential Gradient @ Feed-Membrane Interface, Inlet :    0.67296 :      kilogram * meter / ampere / second ** 3 : False : (None, None)\n",
      "    Electric Potential Gradient @ Feed-Membrane Interface, Outlet :    0.31426 :      kilogram * meter / ampere / second ** 3 : False : (None, None)\n",
      "                                     Intrinsic Rejection of Ca_2+ :    0.53054 :                                dimensionless : False : (-1.001, 1.001)\n",
      "                                      Intrinsic Rejection of Cl_- :    0.33158 :                                dimensionless : False : (-1.001, 1.001)\n",
      "                                    Intrinsic Rejection of HCO3_- :    0.48962 :                                dimensionless : False : (-1.001, 1.001)\n",
      "                                      Intrinsic Rejection of Na_+ :    0.30936 :                                dimensionless : False : (-1.001, 1.001)\n",
      "                                    Intrinsic Rejection of SO4_2- :    0.99991 :                                dimensionless : False : (-1.001, 1.001)\n",
      "                                                    Membrane Area :     1075.0 :                                   meter ** 2 : False : (1, None)\n",
      "                        Molar Concentration of Ca_2+ @ Feed Inlet :     10.002 :                            mole / meter ** 3 : False : (0, None)\n",
      "                       Molar Concentration of Ca_2+ @ Feed Outlet :     15.009 :                            mole / meter ** 3 : False : (0, None)\n",
      "                    Molar Concentration of Ca_2+ @ Final Permeate :     4.9957 :                            mole / meter ** 3 : False : (0, None)\n",
      "         Molar Concentration of Ca_2+ @ Membrane Interface, Inlet :     10.641 :                            mole / meter ** 3 : False : (0, None)\n",
      "        Molar Concentration of Ca_2+ @ Membrane Interface, Outlet :     15.815 :                            mole / meter ** 3 : False : (0, None)\n",
      "                   Molar Concentration of Ca_2+ @ Permeate, Inlet :     3.4471 :                            mole / meter ** 3 : False : (0, None)\n",
      "                  Molar Concentration of Ca_2+ @ Permeate, Outlet :     7.1327 :                            mole / meter ** 3 : False : (0, None)\n",
      "              Molar Concentration of Ca_2+ @ Pore Entrance, Inlet :     268.29 :                            mole / meter ** 3 : False : (0, None)\n",
      "             Molar Concentration of Ca_2+ @ Pore Entrance, Outlet :     265.13 :                            mole / meter ** 3 : False : (0, None)\n",
      "                  Molar Concentration of Ca_2+ @ Pore Exit, Inlet :     268.41 :                            mole / meter ** 3 : False : (0, None)\n",
      "                 Molar Concentration of Ca_2+ @ Pore Exit, Outlet :     265.22 :                            mole / meter ** 3 : False : (0, None)\n",
      "                         Molar Concentration of Cl_- @ Feed Inlet :     30.849 :                            mole / meter ** 3 : False : (0, None)\n",
      "                        Molar Concentration of Cl_- @ Feed Outlet :     40.328 :                            mole / meter ** 3 : False : (0, None)\n",
      "                     Molar Concentration of Cl_- @ Final Permeate :     21.370 :                            mole / meter ** 3 : False : (0, None)\n",
      "          Molar Concentration of Cl_- @ Membrane Interface, Inlet :     31.971 :                            mole / meter ** 3 : False : (0, None)\n",
      "         Molar Concentration of Cl_- @ Membrane Interface, Outlet :     41.300 :                            mole / meter ** 3 : False : (0, None)\n",
      "                    Molar Concentration of Cl_- @ Permeate, Inlet :     16.506 :                            mole / meter ** 3 : False : (0, None)\n",
      "                   Molar Concentration of Cl_- @ Permeate, Outlet :     28.059 :                            mole / meter ** 3 : False : (0, None)\n",
      "               Molar Concentration of Cl_- @ Pore Entrance, Inlet :   0.010800 :                            mole / meter ** 3 : False : (0, None)\n",
      "              Molar Concentration of Cl_- @ Pore Entrance, Outlet :   0.017110 :                            mole / meter ** 3 : False : (0, None)\n",
      "                   Molar Concentration of Cl_- @ Pore Exit, Inlet :  0.0031728 :                            mole / meter ** 3 : False : (0, None)\n",
      "                  Molar Concentration of Cl_- @ Pore Exit, Outlet :  0.0078051 :                            mole / meter ** 3 : False : (0, None)\n",
      "                          Molar Concentration of H2O @ Feed Inlet :     55425. :                            mole / meter ** 3 : False : (0, None)\n",
      "                         Molar Concentration of H2O @ Feed Outlet :     55372. :                            mole / meter ** 3 : False : (0, None)\n",
      "                      Molar Concentration of H2O @ Final Permeate :     55479. :                            mole / meter ** 3 : False : (0, None)\n",
      "           Molar Concentration of H2O @ Membrane Interface, Inlet :     55419. :                            mole / meter ** 3 : False : (0, None)\n",
      "          Molar Concentration of H2O @ Membrane Interface, Outlet :     55364. :                            mole / meter ** 3 : False : (0, None)\n",
      "                     Molar Concentration of H2O @ Permeate, Inlet :     55497. :                            mole / meter ** 3 : False : (0, None)\n",
      "                    Molar Concentration of H2O @ Permeate, Outlet :     55454. :                            mole / meter ** 3 : False : (0, None)\n",
      "                Molar Concentration of H2O @ Pore Entrance, Inlet :     54776. :                            mole / meter ** 3 : False : (0, None)\n",
      "               Molar Concentration of H2O @ Pore Entrance, Outlet :     54775. :                            mole / meter ** 3 : False : (0, None)\n",
      "                    Molar Concentration of H2O @ Pore Exit, Inlet :     54776. :                            mole / meter ** 3 : False : (0, None)\n",
      "                   Molar Concentration of H2O @ Pore Exit, Outlet :     54775. :                            mole / meter ** 3 : False : (0, None)\n",
      "                       Molar Concentration of HCO3_- @ Feed Inlet :     3.7174 :                            mole / meter ** 3 : False : (0, None)\n",
      "                      Molar Concentration of HCO3_- @ Feed Outlet :     5.4156 :                            mole / meter ** 3 : False : (0, None)\n",
      "                   Molar Concentration of HCO3_- @ Final Permeate :     2.0193 :                            mole / meter ** 3 : False : (0, None)\n",
      "        Molar Concentration of HCO3_- @ Membrane Interface, Inlet :     3.9566 :                            mole / meter ** 3 : False : (0, None)\n",
      "       Molar Concentration of HCO3_- @ Membrane Interface, Outlet :     5.6804 :                            mole / meter ** 3 : False : (0, None)\n",
      "                  Molar Concentration of HCO3_- @ Permeate, Inlet :     1.4075 :                            mole / meter ** 3 : False : (0, None)\n",
      "                 Molar Concentration of HCO3_- @ Permeate, Outlet :     2.8634 :                            mole / meter ** 3 : False : (0, None)\n",
      "             Molar Concentration of HCO3_- @ Pore Entrance, Inlet :  0.0024780 :                            mole / meter ** 3 : False : (0, None)\n",
      "            Molar Concentration of HCO3_- @ Pore Entrance, Outlet :  0.0043629 :                            mole / meter ** 3 : False : (0, None)\n",
      "                 Molar Concentration of HCO3_- @ Pore Exit, Inlet : 0.00050162 :                            mole / meter ** 3 : False : (0, None)\n",
      "                Molar Concentration of HCO3_- @ Pore Exit, Outlet :  0.0014768 :                            mole / meter ** 3 : False : (0, None)\n",
      "                         Molar Concentration of Na_+ @ Feed Inlet :     18.829 :                            mole / meter ** 3 : False : (0, None)\n",
      "                        Molar Concentration of Na_+ @ Feed Outlet :     24.260 :                            mole / meter ** 3 : False : (0, None)\n",
      "                     Molar Concentration of Na_+ @ Final Permeate :     13.398 :                            mole / meter ** 3 : False : (0, None)\n",
      "          Molar Concentration of Na_+ @ Membrane Interface, Inlet :     19.400 :                            mole / meter ** 3 : False : (0, None)\n",
      "         Molar Concentration of Na_+ @ Membrane Interface, Outlet :     24.840 :                            mole / meter ** 3 : False : (0, None)\n",
      "                    Molar Concentration of Na_+ @ Permeate, Inlet :     11.019 :                            mole / meter ** 3 : False : (0, None)\n",
      "                   Molar Concentration of Na_+ @ Permeate, Outlet :     16.658 :                            mole / meter ** 3 : False : (0, None)\n",
      "               Molar Concentration of Na_+ @ Pore Entrance, Inlet :     143.44 :                            mole / meter ** 3 : False : (0, None)\n",
      "              Molar Concentration of Na_+ @ Pore Entrance, Outlet :     149.77 :                            mole / meter ** 3 : False : (0, None)\n",
      "                   Molar Concentration of Na_+ @ Pore Exit, Inlet :     143.19 :                            mole / meter ** 3 : False : (0, None)\n",
      "                  Molar Concentration of Na_+ @ Pore Exit, Outlet :     149.58 :                            mole / meter ** 3 : False : (0, None)\n",
      "                       Molar Concentration of SO4_2- @ Feed Inlet :     2.1338 :                            mole / meter ** 3 : False : (0, None)\n",
      "                      Molar Concentration of SO4_2- @ Feed Outlet :     4.2674 :                            mole / meter ** 3 : False : (0, None)\n",
      "                   Molar Concentration of SO4_2- @ Final Permeate : 0.00021850 :                            mole / meter ** 3 : False : (0, None)\n",
      "        Molar Concentration of SO4_2- @ Membrane Interface, Inlet :     2.3776 :                            mole / meter ** 3 : False : (0, None)\n",
      "       Molar Concentration of SO4_2- @ Membrane Interface, Outlet :     4.7452 :                            mole / meter ** 3 : False : (0, None)\n",
      "                  Molar Concentration of SO4_2- @ Permeate, Inlet : 9.3721e-05 :                            mole / meter ** 3 : False : (0, None)\n",
      "                 Molar Concentration of SO4_2- @ Permeate, Outlet : 0.00039145 :                            mole / meter ** 3 : False : (0, None)\n",
      "             Molar Concentration of SO4_2- @ Pore Entrance, Inlet : 1.8031e-07 :                            mole / meter ** 3 : False : (0, None)\n",
      "            Molar Concentration of SO4_2- @ Pore Entrance, Outlet : 5.4122e-07 :                            mole / meter ** 3 : False : (0, None)\n",
      "                 Molar Concentration of SO4_2- @ Pore Exit, Inlet : 2.3014e-12 :                            mole / meter ** 3 : False : (0, None)\n",
      "                Molar Concentration of SO4_2- @ Pore Exit, Outlet : 2.0129e-11 :                            mole / meter ** 3 : False : (0, None)\n",
      "                            Molar flow rate of Ca_2+ @ feed inlet :   0.010009 :                                mole / second :  True : (0, None)\n",
      "                           Molar flow rate of Ca_2+ @ feed outlet :  0.0075092 :                                mole / second : False : (0, None)\n",
      "              Molar flow rate of Ca_2+ @ membrane-interface inlet :   0.010648 :                                mole / second : False : (0, None)\n",
      "             Molar flow rate of Ca_2+ @ membrane-interface outlet :  0.0079126 :                                mole / second : False : (0, None)\n",
      "                        Molar flow rate of Ca_2+ @ mixed permeate :  0.0024994 :                                mole / second : False : (0, None)\n",
      "                       Molar flow rate of Ca_2+ @ permeate, inlet :  0.0017246 :                                mole / second : False : (0, None)\n",
      "                      Molar flow rate of Ca_2+ @ permeate, outlet :  0.0035686 :                                mole / second : False : (0, None)\n",
      "                  Molar flow rate of Ca_2+ @ pore entrance, inlet :    0.13423 :                                mole / second : False : (0, None)\n",
      "                 Molar flow rate of Ca_2+ @ pore entrance, outlet :    0.13265 :                                mole / second : False : (0, None)\n",
      "                      Molar flow rate of Ca_2+ @ pore exit, inlet :    0.13429 :                                mole / second : False : (0, None)\n",
      "                     Molar flow rate of Ca_2+ @ pore exit, outlet :    0.13269 :                                mole / second : False : (0, None)\n",
      "                             Molar flow rate of Cl_- @ feed inlet :   0.030868 :                                mole / second :  True : (0, None)\n",
      "                            Molar flow rate of Cl_- @ feed outlet :   0.020176 :                                mole / second : False : (0, None)\n",
      "               Molar flow rate of Cl_- @ membrane-interface inlet :   0.031991 :                                mole / second : False : (0, None)\n",
      "              Molar flow rate of Cl_- @ membrane-interface outlet :   0.020663 :                                mole / second : False : (0, None)\n",
      "                         Molar flow rate of Cl_- @ mixed permeate :   0.010692 :                                mole / second : False : (0, None)\n",
      "                        Molar flow rate of Cl_- @ permeate, inlet :  0.0082580 :                                mole / second : False : (0, None)\n",
      "                       Molar flow rate of Cl_- @ permeate, outlet :   0.014038 :                                mole / second : False : (0, None)\n",
      "                   Molar flow rate of Cl_- @ pore entrance, inlet : 5.4035e-06 :                                mole / second : False : (0, None)\n",
      "                  Molar flow rate of Cl_- @ pore entrance, outlet : 8.5602e-06 :                                mole / second : False : (0, None)\n",
      "                       Molar flow rate of Cl_- @ pore exit, inlet : 1.5874e-06 :                                mole / second : False : (0, None)\n",
      "                      Molar flow rate of Cl_- @ pore exit, outlet : 3.9050e-06 :                                mole / second : False : (0, None)\n",
      "                              Molar flow rate of H2O @ feed inlet :     55.460 :                                mole / second :  True : (0, None)\n",
      "                             Molar flow rate of H2O @ feed outlet :     27.703 :                                mole / second : False : (0, None)\n",
      "                Molar flow rate of H2O @ membrane-interface inlet :     55.453 :                                mole / second : False : (0, None)\n",
      "               Molar flow rate of H2O @ membrane-interface outlet :     27.699 :                                mole / second : False : (0, None)\n",
      "                          Molar flow rate of H2O @ mixed permeate :     27.757 :                                mole / second : False : (0, None)\n",
      "                         Molar flow rate of H2O @ permeate, inlet :     27.766 :                                mole / second : False : (0, None)\n",
      "                        Molar flow rate of H2O @ permeate, outlet :     27.744 :                                mole / second : False : (0, None)\n",
      "                    Molar flow rate of H2O @ pore entrance, inlet :     27.405 :                                mole / second : False : (0, None)\n",
      "                   Molar flow rate of H2O @ pore entrance, outlet :     27.405 :                                mole / second : False : (0, None)\n",
      "                        Molar flow rate of H2O @ pore exit, inlet :     27.405 :                                mole / second : False : (0, None)\n",
      "                       Molar flow rate of H2O @ pore exit, outlet :     27.405 :                                mole / second : False : (0, None)\n",
      "                           Molar flow rate of HCO3_- @ feed inlet :  0.0037198 :                                mole / second :  True : (0, None)\n",
      "                          Molar flow rate of HCO3_- @ feed outlet :  0.0027095 :                                mole / second : False : (0, None)\n",
      "             Molar flow rate of HCO3_- @ membrane-interface inlet :  0.0039590 :                                mole / second : False : (0, None)\n",
      "            Molar flow rate of HCO3_- @ membrane-interface outlet :  0.0028420 :                                mole / second : False : (0, None)\n",
      "                       Molar flow rate of HCO3_- @ mixed permeate :  0.0010103 :                                mole / second : False : (0, None)\n",
      "                      Molar flow rate of HCO3_- @ permeate, inlet : 0.00070420 :                                mole / second : False : (0, None)\n",
      "                     Molar flow rate of HCO3_- @ permeate, outlet :  0.0014326 :                                mole / second : False : (0, None)\n",
      "                 Molar flow rate of HCO3_- @ pore entrance, inlet : 1.2398e-06 :                                mole / second : False : (0, None)\n",
      "                Molar flow rate of HCO3_- @ pore entrance, outlet : 2.1828e-06 :                                mole / second : False : (0, None)\n",
      "                     Molar flow rate of HCO3_- @ pore exit, inlet : 2.5097e-07 :                                mole / second : False : (0, None)\n",
      "                    Molar flow rate of HCO3_- @ pore exit, outlet : 7.3884e-07 :                                mole / second : False : (0, None)\n",
      "                             Molar flow rate of Na_+ @ feed inlet :   0.018841 :                                mole / second :  True : (0, None)\n",
      "                            Molar flow rate of Na_+ @ feed outlet :   0.012137 :                                mole / second : False : (0, None)\n",
      "               Molar flow rate of Na_+ @ membrane-interface inlet :   0.019412 :                                mole / second : False : (0, None)\n",
      "              Molar flow rate of Na_+ @ membrane-interface outlet :   0.012428 :                                mole / second : False : (0, None)\n",
      "                         Molar flow rate of Na_+ @ mixed permeate :  0.0067033 :                                mole / second : False : (0, None)\n",
      "                        Molar flow rate of Na_+ @ permeate, inlet :  0.0055131 :                                mole / second : False : (0, None)\n",
      "                       Molar flow rate of Na_+ @ permeate, outlet :  0.0083340 :                                mole / second : False : (0, None)\n",
      "                   Molar flow rate of Na_+ @ pore entrance, inlet :   0.071766 :                                mole / second : False : (0, None)\n",
      "                  Molar flow rate of Na_+ @ pore entrance, outlet :   0.074931 :                                mole / second : False : (0, None)\n",
      "                       Molar flow rate of Na_+ @ pore exit, inlet :   0.071639 :                                mole / second : False : (0, None)\n",
      "                      Molar flow rate of Na_+ @ pore exit, outlet :   0.074836 :                                mole / second : False : (0, None)\n",
      "                           Molar flow rate of SO4_2- @ feed inlet :  0.0021351 :                                mole / second :  True : (0, None)\n",
      "                          Molar flow rate of SO4_2- @ feed outlet :  0.0021350 :                                mole / second : False : (0, None)\n",
      "             Molar flow rate of SO4_2- @ membrane-interface inlet :  0.0023791 :                                mole / second : False : (0, None)\n",
      "            Molar flow rate of SO4_2- @ membrane-interface outlet :  0.0023741 :                                mole / second : False : (0, None)\n",
      "                       Molar flow rate of SO4_2- @ mixed permeate : 1.0932e-07 :                                mole / second : False : (0, None)\n",
      "                      Molar flow rate of SO4_2- @ permeate, inlet : 4.6890e-08 :                                mole / second : False : (0, None)\n",
      "                     Molar flow rate of SO4_2- @ permeate, outlet : 1.9585e-07 :                                mole / second : False : (0, None)\n",
      "                 Molar flow rate of SO4_2- @ pore entrance, inlet : 9.0214e-11 :                                mole / second : False : (0, None)\n",
      "                Molar flow rate of SO4_2- @ pore entrance, outlet : 2.7078e-10 :                                mole / second : False : (0, None)\n",
      "                     Molar flow rate of SO4_2- @ pore exit, inlet : 1.1514e-15 :                                mole / second : False : (0, None)\n",
      "                    Molar flow rate of SO4_2- @ pore exit, outlet : 1.0071e-14 :                                mole / second : False : (0, None)\n",
      "                Osmotic Pressure @ Membrane Interface, Inlet (Pa) : 1.6943e+05 :                                       pascal : False : (0, None)\n",
      "               Osmotic Pressure @ Membrane Interface, Outlet (Pa) : 2.2901e+05 :                                       pascal : False : (0, None)\n",
      "                          Osmotic Pressure @ Permeate, Inlet (Pa) :     80268. :                                       pascal : False : (0, None)\n",
      "                         Osmotic Pressure @ Permeate, Outlet (Pa) : 1.3563e+05 :                                       pascal : False : (0, None)\n",
      "                                         Volumetric Recovery Rate :    0.50000 :                                dimensionless :  True : (0, 1)\n",
      "                                Volumetric flow rate @ feed inlet :  0.0010006 :                          meter ** 3 / second : False : (0, None)\n",
      "                               Volumetric flow rate @ feed outlet : 0.00050031 :                          meter ** 3 / second : False : (0, None)\n",
      "                            Volumetric flow rate @ final permeate : 0.00050031 :                          meter ** 3 / second : False : (0, None)\n",
      "                           Volumetric flow rate @ inlet interface :  0.0010006 :                          meter ** 3 / second : False : (0, None)\n",
      "                            Volumetric flow rate @ inlet permeate : 0.00050031 :                          meter ** 3 / second : False : (0, None)\n",
      "                       Volumetric flow rate @ inlet pore entrance : 0.00050031 :                          meter ** 3 / second : False : (0, None)\n",
      "                           Volumetric flow rate @ inlet pore exit : 0.00050031 :                          meter ** 3 / second : False : (0, None)\n",
      "                          Volumetric flow rate @ outlet interface : 0.00050031 :                          meter ** 3 / second : False : (0, None)\n",
      "                           Volumetric flow rate @ outlet permeate : 0.00050031 :                          meter ** 3 / second : False : (0, None)\n",
      "                      Volumetric flow rate @ outlet pore entrance : 0.00050031 :                          meter ** 3 / second : False : (0, None)\n",
      "                          Volumetric flow rate @ outlet pore exit : 0.00050031 :                          meter ** 3 / second : False : (0, None)\n",
      "\n",
      "    Expressions: \n",
      "\n"
     ]
    },
    {
     "name": "stdout",
     "output_type": "stream",
     "text": [
      "    Key                                                         : Value      : Units\n",
      "                                    Average Mole FLux of Ca_2+  : 2.3249e-06 : mole / meter ** 2 / second\n",
      "                                     Average Mole FLux of Cl_-  : 9.9453e-06 : mole / meter ** 2 / second\n",
      "                                      Average Mole FLux of H2O  :   0.025819 : mole / meter ** 2 / second\n",
      "                                   Average Mole FLux of HCO3_-  : 9.3978e-07 : mole / meter ** 2 / second\n",
      "                                     Average Mole FLux of Na_+  : 6.2354e-06 : mole / meter ** 2 / second\n",
      "                                   Average Mole FLux of SO4_2-  : 1.0169e-10 : mole / meter ** 2 / second\n",
      "                                  Average Volumetric Flux (LMH) :     1.6783 : meter / second\n",
      "             Born Solvation Energy Partitioning Factor of Ca_2+ :   0.013960 : dimensionless\n",
      "              Born Solvation Energy Partitioning Factor of Cl_- :   0.065409 : dimensionless\n",
      "            Born Solvation Energy Partitioning Factor of HCO3_- :    0.20153 : dimensionless\n",
      "              Born Solvation Energy Partitioning Factor of Na_+ :    0.16640 : dimensionless\n",
      "            Born Solvation Energy Partitioning Factor of SO4_2- :  0.0032188 : dimensionless\n",
      "                           Convective Hindrance Factor of Ca_2+ :     1.3174 : dimensionless\n",
      "                            Convective Hindrance Factor of Cl_- :     1.2868 : dimensionless\n",
      "                          Convective Hindrance Factor of HCO3_- :     1.3455 : dimensionless\n",
      "                            Convective Hindrance Factor of Na_+ :     1.3381 : dimensionless\n",
      "                          Convective Hindrance Factor of SO4_2- :     1.3479 : dimensionless\n",
      "                            Diffusive Hindrance Factor of Ca_2+ :   0.098786 : dimensionless\n",
      "                             Diffusive Hindrance Factor of Cl_- :    0.49595 : dimensionless\n",
      "                           Diffusive Hindrance Factor of HCO3_- :    0.27832 : dimensionless\n",
      "                             Diffusive Hindrance Factor of Na_+ :    0.32889 : dimensionless\n",
      "                           Diffusive Hindrance Factor of SO4_2- :    0.22790 : dimensionless\n",
      "          Donnan Partitioning Factor of Ca_2+ @ Feed-side Inlet :     12376. : dimensionless\n",
      "         Donnan Partitioning Factor of Ca_2+ @ Feed-side Outlet :     8229.3 : dimensionless\n",
      "      Donnan Partitioning Factor of Ca_2+ @ Permeate-side Inlet :     38224. : dimensionless\n",
      "     Donnan Partitioning Factor of Ca_2+ @ Permeate-side Outlet :     18253. : dimensionless\n",
      "           Donnan Partitioning Factor of Cl_- @ Feed-side Inlet :  0.0089889 : dimensionless\n",
      "          Donnan Partitioning Factor of Cl_- @ Feed-side Outlet :   0.011023 : dimensionless\n",
      "       Donnan Partitioning Factor of Cl_- @ Permeate-side Inlet :  0.0051149 : dimensionless\n",
      "      Donnan Partitioning Factor of Cl_- @ Permeate-side Outlet :  0.0074017 : dimensionless\n",
      "         Donnan Partitioning Factor of HCO3_- @ Feed-side Inlet :  0.0089889 : dimensionless\n",
      "        Donnan Partitioning Factor of HCO3_- @ Feed-side Outlet :   0.011023 : dimensionless\n",
      "     Donnan Partitioning Factor of HCO3_- @ Permeate-side Inlet :  0.0051149 : dimensionless\n",
      "    Donnan Partitioning Factor of HCO3_- @ Permeate-side Outlet :  0.0074017 : dimensionless\n",
      "           Donnan Partitioning Factor of Na_+ @ Feed-side Inlet :     111.25 : dimensionless\n",
      "          Donnan Partitioning Factor of Na_+ @ Feed-side Outlet :     90.716 : dimensionless\n",
      "       Donnan Partitioning Factor of Na_+ @ Permeate-side Inlet :     195.51 : dimensionless\n",
      "      Donnan Partitioning Factor of Na_+ @ Permeate-side Outlet :     135.10 : dimensionless\n",
      "         Donnan Partitioning Factor of SO4_2- @ Feed-side Inlet : 8.0800e-05 : dimensionless\n",
      "        Donnan Partitioning Factor of SO4_2- @ Feed-side Outlet : 0.00012152 : dimensionless\n",
      "     Donnan Partitioning Factor of SO4_2- @ Permeate-side Inlet : 2.6162e-05 : dimensionless\n",
      "    Donnan Partitioning Factor of SO4_2- @ Permeate-side Outlet : 5.4786e-05 : dimensionless\n",
      "                        Gibbs Free Energy of Solvation of Ca_2+ : 1.7583e-20 : joule\n",
      "                         Gibbs Free Energy of Solvation of Cl_- : 1.1226e-20 : joule\n",
      "                       Gibbs Free Energy of Solvation of HCO3_- : 6.5938e-21 : joule\n",
      "                         Gibbs Free Energy of Solvation of Na_+ : 7.3822e-21 : joule\n",
      "                       Gibbs Free Energy of Solvation of SO4_2- : 2.3623e-20 : joule\n",
      "                               Net Driving Pressure, Inlet (Pa) :     14938. : pascal\n",
      "                              Net Driving Pressure, Outlet (Pa) :     10721. : pascal\n",
      "                                    Observed Rejection of Ca_2+ :    0.50055 : dimensionless\n",
      "                                     Observed Rejection of Cl_- :    0.30727 : dimensionless\n",
      "                                   Observed Rejection of HCO3_- :    0.45680 : dimensionless\n",
      "                                     Observed Rejection of Na_+ :    0.28843 : dimensionless\n",
      "                                   Observed Rejection of SO4_2- :    0.99990 : dimensionless\n",
      "                                      Pore Diffusivity of Ca_2+ : 9.0883e-11 : meter ** 2 / second\n",
      "                                       Pore Diffusivity of Cl_- : 1.0068e-09 : meter ** 2 / second\n",
      "                                     Pore Diffusivity of HCO3_- : 3.3120e-10 : meter ** 2 / second\n",
      "                                       Pore Diffusivity of Na_+ : 4.3742e-10 : meter ** 2 / second\n",
      "                                     Pore Diffusivity of SO4_2- : 2.4157e-10 : meter ** 2 / second\n",
      "                  Steric Hindrance Partitioning Factor of Ca_2+ :    0.14592 : dimensionless\n",
      "                   Steric Hindrance Partitioning Factor of Cl_- :    0.57456 : dimensionless\n",
      "                 Steric Hindrance Partitioning Factor of HCO3_- :    0.34574 : dimensionless\n",
      "                   Steric Hindrance Partitioning Factor of Na_+ :    0.39942 : dimensionless\n",
      "                 Steric Hindrance Partitioning Factor of SO4_2- :    0.29160 : dimensionless\n",
      "                                         Stokes radius of Ca_2+ : 3.0900e-10 : meter\n",
      "                                          Stokes radius of Cl_- : 1.2100e-10 : meter\n",
      "                                        Stokes radius of HCO3_- : 2.0600e-10 : meter\n",
      "                                          Stokes radius of Na_+ : 1.8400e-10 : meter\n",
      "                                        Stokes radius of SO4_2- : 2.3000e-10 : meter\n",
      "                              Stokes:Pore Radius Ratio of Ca_2+ :    0.61800 : dimensionless\n",
      "                               Stokes:Pore Radius Ratio of Cl_- :    0.24200 : dimensionless\n",
      "                             Stokes:Pore Radius Ratio of HCO3_- :    0.41200 : dimensionless\n",
      "                               Stokes:Pore Radius Ratio of Na_+ :    0.36800 : dimensionless\n",
      "                             Stokes:Pore Radius Ratio of SO4_2- :    0.46000 : dimensionless\n",
      "\n",
      "------------------------------------------------------------------------------------\n",
      "    Stream Table\n",
      "                                              Units       Feed Inlet  Feed Outlet  Permeate Outlet\n",
      "    flow_mol_phase_comp ('Liq', 'H2O')     mole / second      55.460      27.703         27.757   \n",
      "    flow_mol_phase_comp ('Liq', 'Ca_2+')   mole / second    0.010009   0.0075092      0.0024994   \n",
      "    flow_mol_phase_comp ('Liq', 'SO4_2-')  mole / second   0.0021351   0.0021350     1.0932e-07   \n",
      "    flow_mol_phase_comp ('Liq', 'HCO3_-')  mole / second   0.0037198   0.0027095      0.0010103   \n",
      "    flow_mol_phase_comp ('Liq', 'Na_+')    mole / second    0.018841    0.012137      0.0067033   \n",
      "    flow_mol_phase_comp ('Liq', 'Cl_-')    mole / second    0.030868    0.020176       0.010692   \n",
      "    temperature                                   kelvin      298.15      298.15         298.15   \n",
      "    pressure                                      pascal  2.0542e+05  2.0542e+05     1.0132e+05   \n",
      "====================================================================================\n"
     ]
    }
   ],
   "source": [
    "# display the overall report on the NF unit\n",
    "m.fs.unit.report()"
   ]
  },
  {
   "cell_type": "code",
   "execution_count": 197,
   "metadata": {},
   "outputs": [
    {
     "name": "stdout",
     "output_type": "stream",
     "text": [
      "WARNING: Loading a SolverResults object with a warning status into\n",
      "    model.name=\"unknown\";\n",
      "      - termination condition: unbounded\n",
      "      - message from solver: Ipopt 3.13.2\\x3a Iterates diverging; problem\n",
      "        might be unbounded.\n",
      "WARNING: Loading a SolverResults object with a warning status into\n",
      "    model.name=\"unknown\";\n",
      "      - termination condition: unbounded\n",
      "      - message from solver: Ipopt 3.13.2\\x3a Iterates diverging; problem\n",
      "        might be unbounded.\n",
      "WARNING: Loading a SolverResults object with a warning status into\n",
      "    model.name=\"unknown\";\n",
      "      - termination condition: unbounded\n",
      "      - message from solver: Ipopt 3.13.2\\x3a Iterates diverging; problem\n",
      "        might be unbounded.\n",
      "WARNING: Loading a SolverResults object with a warning status into\n",
      "    model.name=\"unknown\";\n",
      "      - termination condition: unbounded\n",
      "      - message from solver: Ipopt 3.13.2\\x3a Iterates diverging; problem\n",
      "        might be unbounded.\n",
      "WARNING: Loading a SolverResults object with a warning status into\n",
      "    model.name=\"unknown\";\n",
      "      - termination condition: unbounded\n",
      "      - message from solver: Ipopt 3.13.2\\x3a Iterates diverging; problem\n",
      "        might be unbounded.\n",
      "WARNING: Loading a SolverResults object with a warning status into\n",
      "    model.name=\"unknown\";\n",
      "      - termination condition: unbounded\n",
      "      - message from solver: Ipopt 3.13.2\\x3a Iterates diverging; problem\n",
      "        might be unbounded.\n",
      "WARNING: Loading a SolverResults object with a warning status into\n",
      "    model.name=\"unknown\";\n",
      "      - termination condition: unbounded\n",
      "      - message from solver: Ipopt 3.13.2\\x3a Iterates diverging; problem\n",
      "        might be unbounded.\n"
     ]
    }
   ],
   "source": [
    "import numpy as np\n",
    "arearesults= []\n",
    "pressureresults = []\n",
    "ca_rej = []\n",
    "hco3_rej = []\n",
    "na_rej = []\n",
    "cl_rej = []\n",
    "so4_rej = []\n",
    "recovery = []\n",
    "for r in np.arange(0.01,1,.10):\n",
    "    m.fs.unit.recovery_vol_phase[0,\"Liq\"].fix(r)\n",
    "    optimization_results = solver.solve(m, tee=False)\n",
    "    try:\n",
    "        assert_optimal_termination(optimization_results)\n",
    "    except RuntimeError:\n",
    "        arearesults.append(\"nan\")\n",
    "        pressureresults.append(\"nan\")\n",
    "        ca_rej.append(\"nan\")\n",
    "        hco3_rej.append(\"nan\")\n",
    "        na_rej.append(\"nan\")\n",
    "        cl_rej.append(\"nan\")\n",
    "        so4_rej.append(\"nan\")\n",
    "        continue\n",
    "    arearesults.append(value(m.fs.unit.area))\n",
    "    pressureresults.append(value(m.fs.unit.inlet.pressure[0]))\n",
    "    ca_rej.append(value(m.fs.unit.rejection_intrinsic_phase_comp[0,\"Liq\", \"Ca_2+\"]))\n",
    "    hco3_rej.append(value(m.fs.unit.rejection_intrinsic_phase_comp[0,\"Liq\", \"HCO3_-\"]))\n",
    "    na_rej.append(value(m.fs.unit.rejection_intrinsic_phase_comp[0,\"Liq\", \"Na_+\"]))\n",
    "    cl_rej.append(value(m.fs.unit.rejection_intrinsic_phase_comp[0,\"Liq\", \"Cl_-\"]))\n",
    "    so4_rej.append(value(m.fs.unit.rejection_intrinsic_phase_comp[0,\"Liq\", \"SO4_2-\"]))\n",
    "\n",
    "    recovery.append(r)"
   ]
  },
  {
   "cell_type": "code",
   "execution_count": 31,
   "metadata": {},
   "outputs": [],
   "source": [
    "recovery = np.arange(0.01,1,.10)"
   ]
  },
  {
   "cell_type": "code",
   "execution_count": 32,
   "metadata": {},
   "outputs": [],
   "source": [
    "import matplotlib.pyplot as plt"
   ]
  },
  {
   "cell_type": "code",
   "execution_count": 33,
   "metadata": {},
   "outputs": [
    {
     "ename": "TypeError",
     "evalue": "'value' must be an instance of str or bytes, not a float",
     "output_type": "error",
     "traceback": [
      "\u001b[1;31m---------------------------------------------------------------------------\u001b[0m",
      "\u001b[1;31mTypeError\u001b[0m                                 Traceback (most recent call last)",
      "\u001b[1;32m~\\AppData\\Local\\Temp\\ipykernel_26804\\4100630931.py\u001b[0m in \u001b[0;36m<cell line: 1>\u001b[1;34m()\u001b[0m\n\u001b[1;32m----> 1\u001b[1;33m \u001b[0mplt\u001b[0m\u001b[1;33m.\u001b[0m\u001b[0mscatter\u001b[0m\u001b[1;33m(\u001b[0m\u001b[0mrecovery\u001b[0m\u001b[1;33m,\u001b[0m\u001b[0mca_rej\u001b[0m\u001b[1;33m)\u001b[0m\u001b[1;33m\u001b[0m\u001b[1;33m\u001b[0m\u001b[0m\n\u001b[0m\u001b[0;32m      2\u001b[0m \u001b[0mplt\u001b[0m\u001b[1;33m.\u001b[0m\u001b[0mscatter\u001b[0m\u001b[1;33m(\u001b[0m\u001b[0mrecovery\u001b[0m\u001b[1;33m,\u001b[0m\u001b[0mso4_rej\u001b[0m\u001b[1;33m)\u001b[0m\u001b[1;33m\u001b[0m\u001b[1;33m\u001b[0m\u001b[0m\n\u001b[0;32m      3\u001b[0m \u001b[0mplt\u001b[0m\u001b[1;33m.\u001b[0m\u001b[0mscatter\u001b[0m\u001b[1;33m(\u001b[0m\u001b[0mrecovery\u001b[0m\u001b[1;33m,\u001b[0m\u001b[0mhco3_rej\u001b[0m\u001b[1;33m)\u001b[0m\u001b[1;33m\u001b[0m\u001b[1;33m\u001b[0m\u001b[0m\n\u001b[0;32m      4\u001b[0m \u001b[0mplt\u001b[0m\u001b[1;33m.\u001b[0m\u001b[0mscatter\u001b[0m\u001b[1;33m(\u001b[0m\u001b[0mrecovery\u001b[0m\u001b[1;33m,\u001b[0m\u001b[0mna_rej\u001b[0m\u001b[1;33m)\u001b[0m\u001b[1;33m\u001b[0m\u001b[1;33m\u001b[0m\u001b[0m\n\u001b[0;32m      5\u001b[0m \u001b[0mplt\u001b[0m\u001b[1;33m.\u001b[0m\u001b[0mscatter\u001b[0m\u001b[1;33m(\u001b[0m\u001b[0mrecovery\u001b[0m\u001b[1;33m,\u001b[0m\u001b[0mcl_rej\u001b[0m\u001b[1;33m)\u001b[0m\u001b[1;33m\u001b[0m\u001b[1;33m\u001b[0m\u001b[0m\n",
      "\u001b[1;32m~\\Anaconda3\\envs\\watertap-seto-rtd\\lib\\site-packages\\matplotlib\\pyplot.py\u001b[0m in \u001b[0;36mscatter\u001b[1;34m(x, y, s, c, marker, cmap, norm, vmin, vmax, alpha, linewidths, edgecolors, plotnonfinite, data, **kwargs)\u001b[0m\n\u001b[0;32m   2860\u001b[0m         \u001b[0mvmin\u001b[0m\u001b[1;33m=\u001b[0m\u001b[1;32mNone\u001b[0m\u001b[1;33m,\u001b[0m \u001b[0mvmax\u001b[0m\u001b[1;33m=\u001b[0m\u001b[1;32mNone\u001b[0m\u001b[1;33m,\u001b[0m \u001b[0malpha\u001b[0m\u001b[1;33m=\u001b[0m\u001b[1;32mNone\u001b[0m\u001b[1;33m,\u001b[0m \u001b[0mlinewidths\u001b[0m\u001b[1;33m=\u001b[0m\u001b[1;32mNone\u001b[0m\u001b[1;33m,\u001b[0m \u001b[1;33m*\u001b[0m\u001b[1;33m,\u001b[0m\u001b[1;33m\u001b[0m\u001b[1;33m\u001b[0m\u001b[0m\n\u001b[0;32m   2861\u001b[0m         edgecolors=None, plotnonfinite=False, data=None, **kwargs):\n\u001b[1;32m-> 2862\u001b[1;33m     __ret = gca().scatter(\n\u001b[0m\u001b[0;32m   2863\u001b[0m         \u001b[0mx\u001b[0m\u001b[1;33m,\u001b[0m \u001b[0my\u001b[0m\u001b[1;33m,\u001b[0m \u001b[0ms\u001b[0m\u001b[1;33m=\u001b[0m\u001b[0ms\u001b[0m\u001b[1;33m,\u001b[0m \u001b[0mc\u001b[0m\u001b[1;33m=\u001b[0m\u001b[0mc\u001b[0m\u001b[1;33m,\u001b[0m \u001b[0mmarker\u001b[0m\u001b[1;33m=\u001b[0m\u001b[0mmarker\u001b[0m\u001b[1;33m,\u001b[0m \u001b[0mcmap\u001b[0m\u001b[1;33m=\u001b[0m\u001b[0mcmap\u001b[0m\u001b[1;33m,\u001b[0m \u001b[0mnorm\u001b[0m\u001b[1;33m=\u001b[0m\u001b[0mnorm\u001b[0m\u001b[1;33m,\u001b[0m\u001b[1;33m\u001b[0m\u001b[1;33m\u001b[0m\u001b[0m\n\u001b[0;32m   2864\u001b[0m         \u001b[0mvmin\u001b[0m\u001b[1;33m=\u001b[0m\u001b[0mvmin\u001b[0m\u001b[1;33m,\u001b[0m \u001b[0mvmax\u001b[0m\u001b[1;33m=\u001b[0m\u001b[0mvmax\u001b[0m\u001b[1;33m,\u001b[0m \u001b[0malpha\u001b[0m\u001b[1;33m=\u001b[0m\u001b[0malpha\u001b[0m\u001b[1;33m,\u001b[0m \u001b[0mlinewidths\u001b[0m\u001b[1;33m=\u001b[0m\u001b[0mlinewidths\u001b[0m\u001b[1;33m,\u001b[0m\u001b[1;33m\u001b[0m\u001b[1;33m\u001b[0m\u001b[0m\n",
      "\u001b[1;32m~\\Anaconda3\\envs\\watertap-seto-rtd\\lib\\site-packages\\matplotlib\\__init__.py\u001b[0m in \u001b[0;36minner\u001b[1;34m(ax, data, *args, **kwargs)\u001b[0m\n\u001b[0;32m   1457\u001b[0m     \u001b[1;32mdef\u001b[0m \u001b[0minner\u001b[0m\u001b[1;33m(\u001b[0m\u001b[0max\u001b[0m\u001b[1;33m,\u001b[0m \u001b[1;33m*\u001b[0m\u001b[0margs\u001b[0m\u001b[1;33m,\u001b[0m \u001b[0mdata\u001b[0m\u001b[1;33m=\u001b[0m\u001b[1;32mNone\u001b[0m\u001b[1;33m,\u001b[0m \u001b[1;33m**\u001b[0m\u001b[0mkwargs\u001b[0m\u001b[1;33m)\u001b[0m\u001b[1;33m:\u001b[0m\u001b[1;33m\u001b[0m\u001b[1;33m\u001b[0m\u001b[0m\n\u001b[0;32m   1458\u001b[0m         \u001b[1;32mif\u001b[0m \u001b[0mdata\u001b[0m \u001b[1;32mis\u001b[0m \u001b[1;32mNone\u001b[0m\u001b[1;33m:\u001b[0m\u001b[1;33m\u001b[0m\u001b[1;33m\u001b[0m\u001b[0m\n\u001b[1;32m-> 1459\u001b[1;33m             \u001b[1;32mreturn\u001b[0m \u001b[0mfunc\u001b[0m\u001b[1;33m(\u001b[0m\u001b[0max\u001b[0m\u001b[1;33m,\u001b[0m \u001b[1;33m*\u001b[0m\u001b[0mmap\u001b[0m\u001b[1;33m(\u001b[0m\u001b[0msanitize_sequence\u001b[0m\u001b[1;33m,\u001b[0m \u001b[0margs\u001b[0m\u001b[1;33m)\u001b[0m\u001b[1;33m,\u001b[0m \u001b[1;33m**\u001b[0m\u001b[0mkwargs\u001b[0m\u001b[1;33m)\u001b[0m\u001b[1;33m\u001b[0m\u001b[1;33m\u001b[0m\u001b[0m\n\u001b[0m\u001b[0;32m   1460\u001b[0m \u001b[1;33m\u001b[0m\u001b[0m\n\u001b[0;32m   1461\u001b[0m         \u001b[0mbound\u001b[0m \u001b[1;33m=\u001b[0m \u001b[0mnew_sig\u001b[0m\u001b[1;33m.\u001b[0m\u001b[0mbind\u001b[0m\u001b[1;33m(\u001b[0m\u001b[0max\u001b[0m\u001b[1;33m,\u001b[0m \u001b[1;33m*\u001b[0m\u001b[0margs\u001b[0m\u001b[1;33m,\u001b[0m \u001b[1;33m**\u001b[0m\u001b[0mkwargs\u001b[0m\u001b[1;33m)\u001b[0m\u001b[1;33m\u001b[0m\u001b[1;33m\u001b[0m\u001b[0m\n",
      "\u001b[1;32m~\\Anaconda3\\envs\\watertap-seto-rtd\\lib\\site-packages\\matplotlib\\axes\\_axes.py\u001b[0m in \u001b[0;36mscatter\u001b[1;34m(self, x, y, s, c, marker, cmap, norm, vmin, vmax, alpha, linewidths, edgecolors, plotnonfinite, **kwargs)\u001b[0m\n\u001b[0;32m   4576\u001b[0m         \"\"\"\n\u001b[0;32m   4577\u001b[0m         \u001b[1;31m# Process **kwargs to handle aliases, conflicts with explicit kwargs:\u001b[0m\u001b[1;33m\u001b[0m\u001b[1;33m\u001b[0m\u001b[0m\n\u001b[1;32m-> 4578\u001b[1;33m         \u001b[0mx\u001b[0m\u001b[1;33m,\u001b[0m \u001b[0my\u001b[0m \u001b[1;33m=\u001b[0m \u001b[0mself\u001b[0m\u001b[1;33m.\u001b[0m\u001b[0m_process_unit_info\u001b[0m\u001b[1;33m(\u001b[0m\u001b[1;33m[\u001b[0m\u001b[1;33m(\u001b[0m\u001b[1;34m\"x\"\u001b[0m\u001b[1;33m,\u001b[0m \u001b[0mx\u001b[0m\u001b[1;33m)\u001b[0m\u001b[1;33m,\u001b[0m \u001b[1;33m(\u001b[0m\u001b[1;34m\"y\"\u001b[0m\u001b[1;33m,\u001b[0m \u001b[0my\u001b[0m\u001b[1;33m)\u001b[0m\u001b[1;33m]\u001b[0m\u001b[1;33m,\u001b[0m \u001b[0mkwargs\u001b[0m\u001b[1;33m)\u001b[0m\u001b[1;33m\u001b[0m\u001b[1;33m\u001b[0m\u001b[0m\n\u001b[0m\u001b[0;32m   4579\u001b[0m         \u001b[1;31m# np.ma.ravel yields an ndarray, not a masked array,\u001b[0m\u001b[1;33m\u001b[0m\u001b[1;33m\u001b[0m\u001b[0m\n\u001b[0;32m   4580\u001b[0m         \u001b[1;31m# unless its argument is a masked array.\u001b[0m\u001b[1;33m\u001b[0m\u001b[1;33m\u001b[0m\u001b[0m\n",
      "\u001b[1;32m~\\Anaconda3\\envs\\watertap-seto-rtd\\lib\\site-packages\\matplotlib\\axes\\_base.py\u001b[0m in \u001b[0;36m_process_unit_info\u001b[1;34m(self, datasets, kwargs, convert)\u001b[0m\n\u001b[0;32m   2547\u001b[0m             \u001b[1;31m# Update from data if axis is already set but no unit is set yet.\u001b[0m\u001b[1;33m\u001b[0m\u001b[1;33m\u001b[0m\u001b[0m\n\u001b[0;32m   2548\u001b[0m             \u001b[1;32mif\u001b[0m \u001b[0maxis\u001b[0m \u001b[1;32mis\u001b[0m \u001b[1;32mnot\u001b[0m \u001b[1;32mNone\u001b[0m \u001b[1;32mand\u001b[0m \u001b[0mdata\u001b[0m \u001b[1;32mis\u001b[0m \u001b[1;32mnot\u001b[0m \u001b[1;32mNone\u001b[0m \u001b[1;32mand\u001b[0m \u001b[1;32mnot\u001b[0m \u001b[0maxis\u001b[0m\u001b[1;33m.\u001b[0m\u001b[0mhave_units\u001b[0m\u001b[1;33m(\u001b[0m\u001b[1;33m)\u001b[0m\u001b[1;33m:\u001b[0m\u001b[1;33m\u001b[0m\u001b[1;33m\u001b[0m\u001b[0m\n\u001b[1;32m-> 2549\u001b[1;33m                 \u001b[0maxis\u001b[0m\u001b[1;33m.\u001b[0m\u001b[0mupdate_units\u001b[0m\u001b[1;33m(\u001b[0m\u001b[0mdata\u001b[0m\u001b[1;33m)\u001b[0m\u001b[1;33m\u001b[0m\u001b[1;33m\u001b[0m\u001b[0m\n\u001b[0m\u001b[0;32m   2550\u001b[0m         \u001b[1;32mfor\u001b[0m \u001b[0maxis_name\u001b[0m\u001b[1;33m,\u001b[0m \u001b[0maxis\u001b[0m \u001b[1;32min\u001b[0m \u001b[0maxis_map\u001b[0m\u001b[1;33m.\u001b[0m\u001b[0mitems\u001b[0m\u001b[1;33m(\u001b[0m\u001b[1;33m)\u001b[0m\u001b[1;33m:\u001b[0m\u001b[1;33m\u001b[0m\u001b[1;33m\u001b[0m\u001b[0m\n\u001b[0;32m   2551\u001b[0m             \u001b[1;31m# Return if no axis is set.\u001b[0m\u001b[1;33m\u001b[0m\u001b[1;33m\u001b[0m\u001b[0m\n",
      "\u001b[1;32m~\\Anaconda3\\envs\\watertap-seto-rtd\\lib\\site-packages\\matplotlib\\axis.py\u001b[0m in \u001b[0;36mupdate_units\u001b[1;34m(self, data)\u001b[0m\n\u001b[0;32m   1673\u001b[0m         \u001b[0mneednew\u001b[0m \u001b[1;33m=\u001b[0m \u001b[0mself\u001b[0m\u001b[1;33m.\u001b[0m\u001b[0mconverter\u001b[0m \u001b[1;33m!=\u001b[0m \u001b[0mconverter\u001b[0m\u001b[1;33m\u001b[0m\u001b[1;33m\u001b[0m\u001b[0m\n\u001b[0;32m   1674\u001b[0m         \u001b[0mself\u001b[0m\u001b[1;33m.\u001b[0m\u001b[0mconverter\u001b[0m \u001b[1;33m=\u001b[0m \u001b[0mconverter\u001b[0m\u001b[1;33m\u001b[0m\u001b[1;33m\u001b[0m\u001b[0m\n\u001b[1;32m-> 1675\u001b[1;33m         \u001b[0mdefault\u001b[0m \u001b[1;33m=\u001b[0m \u001b[0mself\u001b[0m\u001b[1;33m.\u001b[0m\u001b[0mconverter\u001b[0m\u001b[1;33m.\u001b[0m\u001b[0mdefault_units\u001b[0m\u001b[1;33m(\u001b[0m\u001b[0mdata\u001b[0m\u001b[1;33m,\u001b[0m \u001b[0mself\u001b[0m\u001b[1;33m)\u001b[0m\u001b[1;33m\u001b[0m\u001b[1;33m\u001b[0m\u001b[0m\n\u001b[0m\u001b[0;32m   1676\u001b[0m         \u001b[1;32mif\u001b[0m \u001b[0mdefault\u001b[0m \u001b[1;32mis\u001b[0m \u001b[1;32mnot\u001b[0m \u001b[1;32mNone\u001b[0m \u001b[1;32mand\u001b[0m \u001b[0mself\u001b[0m\u001b[1;33m.\u001b[0m\u001b[0munits\u001b[0m \u001b[1;32mis\u001b[0m \u001b[1;32mNone\u001b[0m\u001b[1;33m:\u001b[0m\u001b[1;33m\u001b[0m\u001b[1;33m\u001b[0m\u001b[0m\n\u001b[0;32m   1677\u001b[0m             \u001b[0mself\u001b[0m\u001b[1;33m.\u001b[0m\u001b[0mset_units\u001b[0m\u001b[1;33m(\u001b[0m\u001b[0mdefault\u001b[0m\u001b[1;33m)\u001b[0m\u001b[1;33m\u001b[0m\u001b[1;33m\u001b[0m\u001b[0m\n",
      "\u001b[1;32m~\\Anaconda3\\envs\\watertap-seto-rtd\\lib\\site-packages\\matplotlib\\category.py\u001b[0m in \u001b[0;36mdefault_units\u001b[1;34m(data, axis)\u001b[0m\n\u001b[0;32m    103\u001b[0m         \u001b[1;31m# the conversion call stack is default_units -> axis_info -> convert\u001b[0m\u001b[1;33m\u001b[0m\u001b[1;33m\u001b[0m\u001b[0m\n\u001b[0;32m    104\u001b[0m         \u001b[1;32mif\u001b[0m \u001b[0maxis\u001b[0m\u001b[1;33m.\u001b[0m\u001b[0munits\u001b[0m \u001b[1;32mis\u001b[0m \u001b[1;32mNone\u001b[0m\u001b[1;33m:\u001b[0m\u001b[1;33m\u001b[0m\u001b[1;33m\u001b[0m\u001b[0m\n\u001b[1;32m--> 105\u001b[1;33m             \u001b[0maxis\u001b[0m\u001b[1;33m.\u001b[0m\u001b[0mset_units\u001b[0m\u001b[1;33m(\u001b[0m\u001b[0mUnitData\u001b[0m\u001b[1;33m(\u001b[0m\u001b[0mdata\u001b[0m\u001b[1;33m)\u001b[0m\u001b[1;33m)\u001b[0m\u001b[1;33m\u001b[0m\u001b[1;33m\u001b[0m\u001b[0m\n\u001b[0m\u001b[0;32m    106\u001b[0m         \u001b[1;32melse\u001b[0m\u001b[1;33m:\u001b[0m\u001b[1;33m\u001b[0m\u001b[1;33m\u001b[0m\u001b[0m\n\u001b[0;32m    107\u001b[0m             \u001b[0maxis\u001b[0m\u001b[1;33m.\u001b[0m\u001b[0munits\u001b[0m\u001b[1;33m.\u001b[0m\u001b[0mupdate\u001b[0m\u001b[1;33m(\u001b[0m\u001b[0mdata\u001b[0m\u001b[1;33m)\u001b[0m\u001b[1;33m\u001b[0m\u001b[1;33m\u001b[0m\u001b[0m\n",
      "\u001b[1;32m~\\Anaconda3\\envs\\watertap-seto-rtd\\lib\\site-packages\\matplotlib\\category.py\u001b[0m in \u001b[0;36m__init__\u001b[1;34m(self, data)\u001b[0m\n\u001b[0;32m    179\u001b[0m         \u001b[0mself\u001b[0m\u001b[1;33m.\u001b[0m\u001b[0m_counter\u001b[0m \u001b[1;33m=\u001b[0m \u001b[0mitertools\u001b[0m\u001b[1;33m.\u001b[0m\u001b[0mcount\u001b[0m\u001b[1;33m(\u001b[0m\u001b[1;33m)\u001b[0m\u001b[1;33m\u001b[0m\u001b[1;33m\u001b[0m\u001b[0m\n\u001b[0;32m    180\u001b[0m         \u001b[1;32mif\u001b[0m \u001b[0mdata\u001b[0m \u001b[1;32mis\u001b[0m \u001b[1;32mnot\u001b[0m \u001b[1;32mNone\u001b[0m\u001b[1;33m:\u001b[0m\u001b[1;33m\u001b[0m\u001b[1;33m\u001b[0m\u001b[0m\n\u001b[1;32m--> 181\u001b[1;33m             \u001b[0mself\u001b[0m\u001b[1;33m.\u001b[0m\u001b[0mupdate\u001b[0m\u001b[1;33m(\u001b[0m\u001b[0mdata\u001b[0m\u001b[1;33m)\u001b[0m\u001b[1;33m\u001b[0m\u001b[1;33m\u001b[0m\u001b[0m\n\u001b[0m\u001b[0;32m    182\u001b[0m \u001b[1;33m\u001b[0m\u001b[0m\n\u001b[0;32m    183\u001b[0m     \u001b[1;33m@\u001b[0m\u001b[0mstaticmethod\u001b[0m\u001b[1;33m\u001b[0m\u001b[1;33m\u001b[0m\u001b[0m\n",
      "\u001b[1;32m~\\Anaconda3\\envs\\watertap-seto-rtd\\lib\\site-packages\\matplotlib\\category.py\u001b[0m in \u001b[0;36mupdate\u001b[1;34m(self, data)\u001b[0m\n\u001b[0;32m    214\u001b[0m         \u001b[1;32mfor\u001b[0m \u001b[0mval\u001b[0m \u001b[1;32min\u001b[0m \u001b[0mOrderedDict\u001b[0m\u001b[1;33m.\u001b[0m\u001b[0mfromkeys\u001b[0m\u001b[1;33m(\u001b[0m\u001b[0mdata\u001b[0m\u001b[1;33m)\u001b[0m\u001b[1;33m:\u001b[0m\u001b[1;33m\u001b[0m\u001b[1;33m\u001b[0m\u001b[0m\n\u001b[0;32m    215\u001b[0m             \u001b[1;31m# OrderedDict just iterates over unique values in data.\u001b[0m\u001b[1;33m\u001b[0m\u001b[1;33m\u001b[0m\u001b[0m\n\u001b[1;32m--> 216\u001b[1;33m             \u001b[0m_api\u001b[0m\u001b[1;33m.\u001b[0m\u001b[0mcheck_isinstance\u001b[0m\u001b[1;33m(\u001b[0m\u001b[1;33m(\u001b[0m\u001b[0mstr\u001b[0m\u001b[1;33m,\u001b[0m \u001b[0mbytes\u001b[0m\u001b[1;33m)\u001b[0m\u001b[1;33m,\u001b[0m \u001b[0mvalue\u001b[0m\u001b[1;33m=\u001b[0m\u001b[0mval\u001b[0m\u001b[1;33m)\u001b[0m\u001b[1;33m\u001b[0m\u001b[1;33m\u001b[0m\u001b[0m\n\u001b[0m\u001b[0;32m    217\u001b[0m             \u001b[1;32mif\u001b[0m \u001b[0mconvertible\u001b[0m\u001b[1;33m:\u001b[0m\u001b[1;33m\u001b[0m\u001b[1;33m\u001b[0m\u001b[0m\n\u001b[0;32m    218\u001b[0m                 \u001b[1;31m# this will only be called so long as convertible is True.\u001b[0m\u001b[1;33m\u001b[0m\u001b[1;33m\u001b[0m\u001b[0m\n",
      "\u001b[1;32m~\\Anaconda3\\envs\\watertap-seto-rtd\\lib\\site-packages\\matplotlib\\_api\\__init__.py\u001b[0m in \u001b[0;36mcheck_isinstance\u001b[1;34m(_types, **kwargs)\u001b[0m\n\u001b[0;32m     91\u001b[0m                 \u001b[0mnames\u001b[0m\u001b[1;33m.\u001b[0m\u001b[0mremove\u001b[0m\u001b[1;33m(\u001b[0m\u001b[1;34m\"None\"\u001b[0m\u001b[1;33m)\u001b[0m\u001b[1;33m\u001b[0m\u001b[1;33m\u001b[0m\u001b[0m\n\u001b[0;32m     92\u001b[0m                 \u001b[0mnames\u001b[0m\u001b[1;33m.\u001b[0m\u001b[0mappend\u001b[0m\u001b[1;33m(\u001b[0m\u001b[1;34m\"None\"\u001b[0m\u001b[1;33m)\u001b[0m\u001b[1;33m\u001b[0m\u001b[1;33m\u001b[0m\u001b[0m\n\u001b[1;32m---> 93\u001b[1;33m             raise TypeError(\n\u001b[0m\u001b[0;32m     94\u001b[0m                 \"{!r} must be an instance of {}, not a {}\".format(\n\u001b[0;32m     95\u001b[0m                     \u001b[0mk\u001b[0m\u001b[1;33m,\u001b[0m\u001b[1;33m\u001b[0m\u001b[1;33m\u001b[0m\u001b[0m\n",
      "\u001b[1;31mTypeError\u001b[0m: 'value' must be an instance of str or bytes, not a float"
     ]
    },
    {
     "data": {
      "image/png": "[encoded data removed]",
      "text/plain": [
       "<Figure size 640x480 with 1 Axes>"
      ]
     },
     "metadata": {},
     "output_type": "display_data"
    }
   ],
   "source": [
    "plt.scatter(recovery,ca_rej)\n",
    "plt.scatter(recovery,so4_rej)\n",
    "plt.scatter(recovery,hco3_rej)\n",
    "plt.scatter(recovery,na_rej)\n",
    "plt.scatter(recovery,cl_rej)\n",
    "plt.legend(['Ca', 'SO4', 'HCO3', 'Na', 'Cl'])"
   ]
  },
  {
   "cell_type": "code",
   "execution_count": null,
   "metadata": {},
   "outputs": [],
   "source": [
    "plt.scatter(recovery,arearesults,marker=\"o\")"
   ]
  },
  {
   "cell_type": "code",
   "execution_count": null,
   "metadata": {},
   "outputs": [],
   "source": [
    "plt.scatter(recovery,pressureresults)"
   ]
  },
  {
   "cell_type": "code",
   "execution_count": null,
   "metadata": {},
   "outputs": [],
   "source": []
  }
 ],
 "metadata": {
  "kernelspec": {
   "display_name": "Python 3 (ipykernel)",
   "language": "python",
   "name": "python3"
  },
  "language_info": {
   "codemirror_mode": {
    "name": "ipython",
    "version": 3
   },
   "file_extension": ".py",
   "mimetype": "text/x-python",
   "name": "python",
   "nbconvert_exporter": "python",
   "pygments_lexer": "ipython3",
   "version": "3.10.9"
  }
 },
 "nbformat": 4,
 "nbformat_minor": 4
}
